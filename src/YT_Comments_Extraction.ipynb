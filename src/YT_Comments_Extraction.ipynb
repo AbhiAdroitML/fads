{
 "nbformat": 4,
 "nbformat_minor": 0,
 "metadata": {
  "colab": {
   "name": "FADS_YT_Comments_05192022_v2.ipynb",
   "provenance": [
    {
     "file_id": "1GfsKbWaRChKp_YnURyB1HHPtiKffPQhJ",
     "timestamp": 1652986873053
    }
   ],
   "collapsed_sections": [],
   "mount_file_id": "1adBd25sOM7yaJg4dAHwLhNXOSKF1Wr4U",
   "authorship_tag": "ABX9TyN6pIrf5UJnB0FsU/K4RI3c"
  },
  "kernelspec": {
   "name": "python3",
   "display_name": "Python 3"
  },
  "language_info": {
   "name": "python"
  }
 },
 "cells": [
  {
   "cell_type": "markdown",
   "source": [
    "# Extracting YouTube Comments\n",
    "Video ID : https://www.youtube.com/watch?v=hMtZfW2z9dw"
   ],
   "metadata": {
    "collapsed": false,
    "pycharm": {
     "name": "#%% md\n"
    }
   }
  },
  {
   "cell_type": "code",
   "execution_count": 1,
   "metadata": {
    "id": "2pje12O7QibP",
    "executionInfo": {
     "status": "ok",
     "timestamp": 1653085475340,
     "user_tz": 240,
     "elapsed": 779,
     "user": {
      "displayName": "Abhinav Bajpai",
      "userId": "18241986054121611863"
     }
    },
    "pycharm": {
     "name": "#%%\n"
    }
   },
   "outputs": [],
   "source": [
    "import pandas as pd"
   ]
  },
  {
   "cell_type": "markdown",
   "source": [
    "**Original Comments**"
   ],
   "metadata": {
    "id": "ctOCQepfyZt5",
    "pycharm": {
     "name": "#%% md\n"
    }
   }
  },
  {
   "cell_type": "code",
   "source": [
    "# Scrape Comments for SQL Using Python Through The Youtube Data API\n",
    "api_key =  # Insert your Api key here.\n",
    "\n",
    "youtube = build('youtube', 'v3', developerKey=api_key)\n",
    "\n",
    "box = [['name', 'comment', 'date', 'likes', 'reply_count', \"parent_id\", \"is_parent\"]]\n",
    "\n",
    "code_lang = [{\"id\":\"hMtZfW2z9dw\"}]\n",
    "\n",
    "for id_code in code_lang:\n",
    "  data = youtube.commentThreads().list(part='snippet', videoId=id_code['id'], maxResults='100', textFormat=\"plainText\").execute()\n",
    "  for i in data[\"items\"]:\n",
    "    name = i[\"snippet\"]['topLevelComment'][\"snippet\"][\"authorDisplayName\"]\n",
    "    comment = i[\"snippet\"]['topLevelComment'][\"snippet\"][\"textDisplay\"]\n",
    "    published_at = i[\"snippet\"]['topLevelComment'][\"snippet\"]['publishedAt']\n",
    "    likes = i[\"snippet\"]['topLevelComment'][\"snippet\"]['likeCount']\n",
    "    parent = i[\"snippet\"]['topLevelComment'][\"id\"]\n",
    "    totalReplyCount = i[\"snippet\"]['totalReplyCount']\n",
    "    \n",
    "    box.append([name, comment, published_at, likes, totalReplyCount, parent, \"Yes\" ])          \n",
    "                        \n",
    "    while (\"nextPageToken\" in data):\n",
    "      data = youtube.commentThreads().list(part='snippet', videoId=id_code['id'], pageToken=data[\"nextPageToken\"],\n",
    "                                             maxResults='100', textFormat=\"plainText\").execute()\n",
    "                                             \n",
    "      for i in data[\"items\"]:\n",
    "        name = i[\"snippet\"]['topLevelComment'][\"snippet\"][\"authorDisplayName\"]\n",
    "        comment = i[\"snippet\"]['topLevelComment'][\"snippet\"][\"textDisplay\"]\n",
    "        published_at = i[\"snippet\"]['topLevelComment'][\"snippet\"]['publishedAt']\n",
    "        likes = i[\"snippet\"]['topLevelComment'][\"snippet\"]['likeCount']\n",
    "        totalReplyCount = i[\"snippet\"]['totalReplyCount']\n",
    "        parent = i[\"snippet\"]['topLevelComment'][\"id\"]\n",
    "\n",
    "        box.append([name, comment, published_at, likes, totalReplyCount, parent, \"Yes\" ])\n",
    "                \n",
    "\n",
    "df = pd.DataFrame({'name': [i[0] for i in box], 'comment': [i[1] for i in box], 'published_at': [i[2] for i in box],\n",
    "                       'likes': [i[3] for i in box], 'Reply Count': [i[4] for i in box], 'parent_id': [i[5] for i in box], 'is_parent': [i[6] for i in box]})      \n",
    "sql_vids = pd.DataFrame([])\n",
    "sql_vids = sql_vids.append(df, ignore_index = True)"
   ],
   "metadata": {
    "id": "5d1AJ3-JQoH8",
    "executionInfo": {
     "status": "ok",
     "timestamp": 1653086060822,
     "user_tz": 240,
     "elapsed": 577617,
     "user": {
      "displayName": "Abhinav Bajpai",
      "userId": "18241986054121611863"
     }
    },
    "pycharm": {
     "name": "#%%\n"
    }
   },
   "execution_count": 2,
   "outputs": []
  },
  {
   "cell_type": "code",
   "source": [
    "sql_vids_parents = sql_vids.drop(0, axis=0)\n",
    "sql_vids_parents['Reply Count'] = sql_vids_parents['Reply Count'].map(int)"
   ],
   "metadata": {
    "id": "9HaIos6xqmQ2",
    "executionInfo": {
     "status": "ok",
     "timestamp": 1653087062944,
     "user_tz": 240,
     "elapsed": 153,
     "user": {
      "displayName": "Abhinav Bajpai",
      "userId": "18241986054121611863"
     }
    },
    "pycharm": {
     "name": "#%%\n"
    }
   },
   "execution_count": 8,
   "outputs": []
  },
  {
   "cell_type": "code",
   "source": [
    "# Filter only comments with replies\n",
    "sql_vids_parents_replies = sql_vids_parents[sql_vids_parents[\"Reply Count\"]>0]"
   ],
   "metadata": {
    "id": "YKFeP73AqZrS",
    "executionInfo": {
     "status": "ok",
     "timestamp": 1653087123503,
     "user_tz": 240,
     "elapsed": 150,
     "user": {
      "displayName": "Abhinav Bajpai",
      "userId": "18241986054121611863"
     }
    },
    "pycharm": {
     "name": "#%%\n"
    }
   },
   "execution_count": 12,
   "outputs": []
  },
  {
   "cell_type": "code",
   "source": [
    "# of comments with replies\n",
    "print(len(sql_vids_parents_replies))\n",
    "sql_vids_parents_replies.head()"
   ],
   "metadata": {
    "colab": {
     "base_uri": "https://localhost:8080/",
     "height": 347
    },
    "id": "Ypm1NjhqqHBr",
    "executionInfo": {
     "status": "ok",
     "timestamp": 1653087151469,
     "user_tz": 240,
     "elapsed": 196,
     "user": {
      "displayName": "Abhinav Bajpai",
      "userId": "18241986054121611863"
     }
    },
    "outputId": "3ffc91dd-16a8-4f73-c50f-7770100134c3",
    "pycharm": {
     "name": "#%%\n"
    }
   },
   "execution_count": 14,
   "outputs": [
    {
     "output_type": "stream",
     "name": "stdout",
     "text": [
      "1414\n"
     ]
    },
    {
     "output_type": "execute_result",
     "data": {
      "text/plain": [
       "                   name                                            comment  \\\n",
       "1             schmoyoho  Stream the track! https://open.spotify.com/alb...   \n",
       "15          Gorsborshmn    I watch this before every episode of One Piece.   \n",
       "20  Steven VG Fernandez                                    April 16 2022..   \n",
       "24            Matt John                               Whose here in 2022!?   \n",
       "52          Miranda Fox  1 ❤️ Hermosa eleccion Likeex.Uno de mejor \\n2 ...   \n",
       "\n",
       "            published_at  likes  Reply Count                   parent_id  \\\n",
       "1   2018-07-12T18:42:05Z  13950          188  UgywoWu8TaqkOzGi8HF4AaABAg   \n",
       "15  2022-04-18T03:26:38Z      0            1  UgzZ6oGZmPH4Q9bJCGp4AaABAg   \n",
       "20  2022-04-15T23:49:18Z      2            1  UgwQ_-KChqEU20m7iT54AaABAg   \n",
       "24  2022-04-14T20:16:56Z      2            1  Ugwhyc1DC7HAEe9dSzx4AaABAg   \n",
       "52  2022-04-07T12:59:08Z     15            1  UgzP9gOKEwNWPfs6zxF4AaABAg   \n",
       "\n",
       "   is_parent  \n",
       "1        Yes  \n",
       "15       Yes  \n",
       "20       Yes  \n",
       "24       Yes  \n",
       "52       Yes  "
      ],
      "text/html": [
       "\n",
       "  <div id=\"df-deda2032-ab40-43d5-aac9-61ffc7993538\">\n",
       "    <div class=\"colab-df-container\">\n",
       "      <div>\n",
       "<style scoped>\n",
       "    .dataframe tbody tr th:only-of-type {\n",
       "        vertical-align: middle;\n",
       "    }\n",
       "\n",
       "    .dataframe tbody tr th {\n",
       "        vertical-align: top;\n",
       "    }\n",
       "\n",
       "    .dataframe thead th {\n",
       "        text-align: right;\n",
       "    }\n",
       "</style>\n",
       "<table border=\"1\" class=\"dataframe\">\n",
       "  <thead>\n",
       "    <tr style=\"text-align: right;\">\n",
       "      <th></th>\n",
       "      <th>name</th>\n",
       "      <th>comment</th>\n",
       "      <th>published_at</th>\n",
       "      <th>likes</th>\n",
       "      <th>Reply Count</th>\n",
       "      <th>parent_id</th>\n",
       "      <th>is_parent</th>\n",
       "    </tr>\n",
       "  </thead>\n",
       "  <tbody>\n",
       "    <tr>\n",
       "      <th>1</th>\n",
       "      <td>schmoyoho</td>\n",
       "      <td>Stream the track! https://open.spotify.com/alb...</td>\n",
       "      <td>2018-07-12T18:42:05Z</td>\n",
       "      <td>13950</td>\n",
       "      <td>188</td>\n",
       "      <td>UgywoWu8TaqkOzGi8HF4AaABAg</td>\n",
       "      <td>Yes</td>\n",
       "    </tr>\n",
       "    <tr>\n",
       "      <th>15</th>\n",
       "      <td>Gorsborshmn</td>\n",
       "      <td>I watch this before every episode of One Piece.</td>\n",
       "      <td>2022-04-18T03:26:38Z</td>\n",
       "      <td>0</td>\n",
       "      <td>1</td>\n",
       "      <td>UgzZ6oGZmPH4Q9bJCGp4AaABAg</td>\n",
       "      <td>Yes</td>\n",
       "    </tr>\n",
       "    <tr>\n",
       "      <th>20</th>\n",
       "      <td>Steven VG Fernandez</td>\n",
       "      <td>April 16 2022..</td>\n",
       "      <td>2022-04-15T23:49:18Z</td>\n",
       "      <td>2</td>\n",
       "      <td>1</td>\n",
       "      <td>UgwQ_-KChqEU20m7iT54AaABAg</td>\n",
       "      <td>Yes</td>\n",
       "    </tr>\n",
       "    <tr>\n",
       "      <th>24</th>\n",
       "      <td>Matt John</td>\n",
       "      <td>Whose here in 2022!?</td>\n",
       "      <td>2022-04-14T20:16:56Z</td>\n",
       "      <td>2</td>\n",
       "      <td>1</td>\n",
       "      <td>Ugwhyc1DC7HAEe9dSzx4AaABAg</td>\n",
       "      <td>Yes</td>\n",
       "    </tr>\n",
       "    <tr>\n",
       "      <th>52</th>\n",
       "      <td>Miranda Fox</td>\n",
       "      <td>1 ❤️ Hermosa eleccion Likeex.Uno de mejor \\n2 ...</td>\n",
       "      <td>2022-04-07T12:59:08Z</td>\n",
       "      <td>15</td>\n",
       "      <td>1</td>\n",
       "      <td>UgzP9gOKEwNWPfs6zxF4AaABAg</td>\n",
       "      <td>Yes</td>\n",
       "    </tr>\n",
       "  </tbody>\n",
       "</table>\n",
       "</div>\n",
       "      <button class=\"colab-df-convert\" onclick=\"convertToInteractive('df-deda2032-ab40-43d5-aac9-61ffc7993538')\"\n",
       "              title=\"Convert this dataframe to an interactive table.\"\n",
       "              style=\"display:none;\">\n",
       "        \n",
       "  <svg xmlns=\"http://www.w3.org/2000/svg\" height=\"24px\"viewBox=\"0 0 24 24\"\n",
       "       width=\"24px\">\n",
       "    <path d=\"M0 0h24v24H0V0z\" fill=\"none\"/>\n",
       "    <path d=\"M18.56 5.44l.94 2.06.94-2.06 2.06-.94-2.06-.94-.94-2.06-.94 2.06-2.06.94zm-11 1L8.5 8.5l.94-2.06 2.06-.94-2.06-.94L8.5 2.5l-.94 2.06-2.06.94zm10 10l.94 2.06.94-2.06 2.06-.94-2.06-.94-.94-2.06-.94 2.06-2.06.94z\"/><path d=\"M17.41 7.96l-1.37-1.37c-.4-.4-.92-.59-1.43-.59-.52 0-1.04.2-1.43.59L10.3 9.45l-7.72 7.72c-.78.78-.78 2.05 0 2.83L4 21.41c.39.39.9.59 1.41.59.51 0 1.02-.2 1.41-.59l7.78-7.78 2.81-2.81c.8-.78.8-2.07 0-2.86zM5.41 20L4 18.59l7.72-7.72 1.47 1.35L5.41 20z\"/>\n",
       "  </svg>\n",
       "      </button>\n",
       "      \n",
       "  <style>\n",
       "    .colab-df-container {\n",
       "      display:flex;\n",
       "      flex-wrap:wrap;\n",
       "      gap: 12px;\n",
       "    }\n",
       "\n",
       "    .colab-df-convert {\n",
       "      background-color: #E8F0FE;\n",
       "      border: none;\n",
       "      border-radius: 50%;\n",
       "      cursor: pointer;\n",
       "      display: none;\n",
       "      fill: #1967D2;\n",
       "      height: 32px;\n",
       "      padding: 0 0 0 0;\n",
       "      width: 32px;\n",
       "    }\n",
       "\n",
       "    .colab-df-convert:hover {\n",
       "      background-color: #E2EBFA;\n",
       "      box-shadow: 0px 1px 2px rgba(60, 64, 67, 0.3), 0px 1px 3px 1px rgba(60, 64, 67, 0.15);\n",
       "      fill: #174EA6;\n",
       "    }\n",
       "\n",
       "    [theme=dark] .colab-df-convert {\n",
       "      background-color: #3B4455;\n",
       "      fill: #D2E3FC;\n",
       "    }\n",
       "\n",
       "    [theme=dark] .colab-df-convert:hover {\n",
       "      background-color: #434B5C;\n",
       "      box-shadow: 0px 1px 3px 1px rgba(0, 0, 0, 0.15);\n",
       "      filter: drop-shadow(0px 1px 2px rgba(0, 0, 0, 0.3));\n",
       "      fill: #FFFFFF;\n",
       "    }\n",
       "  </style>\n",
       "\n",
       "      <script>\n",
       "        const buttonEl =\n",
       "          document.querySelector('#df-deda2032-ab40-43d5-aac9-61ffc7993538 button.colab-df-convert');\n",
       "        buttonEl.style.display =\n",
       "          google.colab.kernel.accessAllowed ? 'block' : 'none';\n",
       "\n",
       "        async function convertToInteractive(key) {\n",
       "          const element = document.querySelector('#df-deda2032-ab40-43d5-aac9-61ffc7993538');\n",
       "          const dataTable =\n",
       "            await google.colab.kernel.invokeFunction('convertToInteractive',\n",
       "                                                     [key], {});\n",
       "          if (!dataTable) return;\n",
       "\n",
       "          const docLinkHtml = 'Like what you see? Visit the ' +\n",
       "            '<a target=\"_blank\" href=https://colab.research.google.com/notebooks/data_table.ipynb>data table notebook</a>'\n",
       "            + ' to learn more about interactive tables.';\n",
       "          element.innerHTML = '';\n",
       "          dataTable['output_type'] = 'display_data';\n",
       "          await google.colab.output.renderOutput(dataTable, element);\n",
       "          const docLink = document.createElement('div');\n",
       "          docLink.innerHTML = docLinkHtml;\n",
       "          element.appendChild(docLink);\n",
       "        }\n",
       "      </script>\n",
       "    </div>\n",
       "  </div>\n",
       "  "
      ],
      "application/vnd.google.colaboratory.module+javascript": "\n      import \"https://ssl.gstatic.com/colaboratory/data_table/f872b2c2305463fd/data_table.js\";\n\n      window.createDataTable({\n        data: [[{\n            'v': 1,\n            'f': \"1\",\n        },\n\"schmoyoho\",\n\"Stream the track! https://open.spotify.com/album/6Vw3OxeQEdQCIJOHMbCpsb (proceeds to Dodsons & Gregorys!)\\nAntoine is on Cameo, get the greatest gift for your mom's bday! https://www.cameo.com/antoine.dodson\\nBed Intruder on vinyl: https://enjoytheriderecords.com/products/bed-intruder-various-other-youtube-hits-7-hide-yo-kids-hide-yo-wife-etr089\",\n\"2018-07-12T18:42:05Z\",\n{\n            'v': 13950,\n            'f': \"13950\",\n        },\n{\n            'v': 188,\n            'f': \"188\",\n        },\n\"UgywoWu8TaqkOzGi8HF4AaABAg\",\n\"Yes\"],\n [{\n            'v': 15,\n            'f': \"15\",\n        },\n\"Gorsborshmn\",\n\"I watch this before every episode of One Piece.\",\n\"2022-04-18T03:26:38Z\",\n{\n            'v': 0,\n            'f': \"0\",\n        },\n{\n            'v': 1,\n            'f': \"1\",\n        },\n\"UgzZ6oGZmPH4Q9bJCGp4AaABAg\",\n\"Yes\"],\n [{\n            'v': 20,\n            'f': \"20\",\n        },\n\"Steven VG Fernandez\",\n\"April 16 2022..\",\n\"2022-04-15T23:49:18Z\",\n{\n            'v': 2,\n            'f': \"2\",\n        },\n{\n            'v': 1,\n            'f': \"1\",\n        },\n\"UgwQ_-KChqEU20m7iT54AaABAg\",\n\"Yes\"],\n [{\n            'v': 24,\n            'f': \"24\",\n        },\n\"Matt John\",\n\"Whose here in 2022!?\",\n\"2022-04-14T20:16:56Z\",\n{\n            'v': 2,\n            'f': \"2\",\n        },\n{\n            'v': 1,\n            'f': \"1\",\n        },\n\"Ugwhyc1DC7HAEe9dSzx4AaABAg\",\n\"Yes\"],\n [{\n            'v': 52,\n            'f': \"52\",\n        },\n\"Miranda Fox\",\n\"1 \\u2764\\ufe0f Hermosa eleccion Likeex.Uno de mejor \\n2 ( elecciones ) 9.6/10 \\n3 ( culturales ) 9.5/10\\n\\n\\nSon unos de los mejores conciertos.\",\n\"2022-04-07T12:59:08Z\",\n{\n            'v': 15,\n            'f': \"15\",\n        },\n{\n            'v': 1,\n            'f': \"1\",\n        },\n\"UgzP9gOKEwNWPfs6zxF4AaABAg\",\n\"Yes\"]],\n        columns: [[\"number\", \"index\"], [\"string\", \"name\"], [\"string\", \"comment\"], [\"string\", \"published_at\"], [\"number\", \"likes\"], [\"number\", \"Reply Count\"], [\"string\", \"parent_id\"], [\"string\", \"is_parent\"]],\n        columnOptions: [{\"width\": \"1px\", \"className\": \"index_column\"}],\n        rowsPerPage: 25,\n        helpUrl: \"https://colab.research.google.com/notebooks/data_table.ipynb\",\n        suppressOutputScrolling: true,\n        minimumWidth: undefined,\n      });\n    "
     },
     "metadata": {},
     "execution_count": 14
    }
   ]
  },
  {
   "cell_type": "markdown",
   "source": [
    "**Replies only**"
   ],
   "metadata": {
    "id": "W7zNynEpySUd",
    "pycharm": {
     "name": "#%% md\n"
    }
   }
  },
  {
   "cell_type": "code",
   "source": [
    "api_key = \"\" # Insert your Api key here.\n",
    "\n",
    "youtube = build('youtube', 'v3', developerKey=api_key)\n",
    "\n",
    "box = [['name', 'comment', 'date', 'likes', 'reply_count', \"parent_id\", \"is_parent\"]]\n",
    "\n",
    "for parent_id in sql_vids_parents_replies['parent_id']:\n",
    "  data = youtube.comments().list(part='snippet', maxResults='100', textFormat=\"plainText\", parentId=parent_id).execute()\n",
    "  for i in data[\"items\"]:\n",
    "    name = i[\"snippet\"][\"authorDisplayName\"]\n",
    "    comment = i[\"snippet\"][\"textDisplay\"]\n",
    "    published_at = i[\"snippet\"]['publishedAt']\n",
    "    likes = i[\"snippet\"]['likeCount']\n",
    "    parent = parent_id\n",
    "    totalReplyCount = ''\n",
    "    \n",
    "    box.append([name, comment, published_at, likes, totalReplyCount, parent, \"No\" ])          \n",
    "                        \n",
    "    while (\"nextPageToken\" in data):\n",
    "      data = youtube.comments().list(part='snippet', pageToken=data[\"nextPageToken\"],\n",
    "                                             maxResults='100', textFormat=\"plainText\", parentId=parent_id).execute()\n",
    "                                             \n",
    "      for i in data[\"items\"]:\n",
    "        name = i[\"snippet\"][\"authorDisplayName\"]\n",
    "        comment = i[\"snippet\"][\"textDisplay\"]\n",
    "        published_at = i[\"snippet\"]['publishedAt']\n",
    "        likes = i[\"snippet\"]['likeCount']\n",
    "        parent = parent_id\n",
    "        totalReplyCount = ''\n",
    "\n",
    "        box.append([name, comment, published_at, likes, totalReplyCount, parent, \"No\" ])\n",
    "                \n",
    "\n",
    "df_replies = pd.DataFrame({'name': [i[0] for i in box], 'comment': [i[1] for i in box], 'published_at': [i[2] for i in box],\n",
    "                       'likes': [i[3] for i in box], 'Reply Count': [i[4] for i in box], 'parent_id': [i[5] for i in box], 'is_parent': [i[6] for i in box]})      \n",
    "sql_vids_replies = pd.DataFrame([])\n",
    "sql_vids_replies = sql_vids_replies.append(df_replies, ignore_index = True)"
   ],
   "metadata": {
    "id": "vLfekHyfpUVF",
    "executionInfo": {
     "status": "ok",
     "timestamp": 1653088690647,
     "user_tz": 240,
     "elapsed": 249413,
     "user": {
      "displayName": "Abhinav Bajpai",
      "userId": "18241986054121611863"
     }
    },
    "pycharm": {
     "name": "#%%\n"
    }
   },
   "execution_count": 21,
   "outputs": []
  },
  {
   "cell_type": "code",
   "source": [
    "sql_vids_replies.drop(0, axis=0, inplace=True)"
   ],
   "metadata": {
    "id": "XN_PRKWaw8gy",
    "executionInfo": {
     "status": "ok",
     "timestamp": 1653089019358,
     "user_tz": 240,
     "elapsed": 137,
     "user": {
      "displayName": "Abhinav Bajpai",
      "userId": "18241986054121611863"
     }
    },
    "pycharm": {
     "name": "#%%\n"
    }
   },
   "execution_count": 27,
   "outputs": []
  },
  {
   "cell_type": "code",
   "source": [
    "sql_vids_replies.head()"
   ],
   "metadata": {
    "colab": {
     "base_uri": "https://localhost:8080/",
     "height": 197
    },
    "id": "-leapoXbxQKH",
    "executionInfo": {
     "status": "ok",
     "timestamp": 1653089044887,
     "user_tz": 240,
     "elapsed": 183,
     "user": {
      "displayName": "Abhinav Bajpai",
      "userId": "18241986054121611863"
     }
    },
    "outputId": "e48859f7-c964-4b01-f36c-6d2d9a7e3e8f",
    "pycharm": {
     "name": "#%%\n"
    }
   },
   "execution_count": 29,
   "outputs": [
    {
     "output_type": "execute_result",
     "data": {
      "text/plain": [
       "                  name                                            comment  \\\n",
       "1         Lillie Britt  This go hard and it's been 10yrs already lolz ...   \n",
       "2      Brazilian Simon                                               Lmao   \n",
       "3         ChocoMintTea                                               Lmao   \n",
       "4      The Pixel Queen             This will shape the history of YouTube   \n",
       "5  Ringtonez Drashopen                You must be joking! Get the track😂?   \n",
       "\n",
       "           published_at likes Reply Count                   parent_id  \\\n",
       "1  2022-04-23T04:09:14Z     0              UgywoWu8TaqkOzGi8HF4AaABAg   \n",
       "2  2018-12-17T06:31:21Z     0              UgywoWu8TaqkOzGi8HF4AaABAg   \n",
       "3  2018-12-11T19:52:36Z     1              UgywoWu8TaqkOzGi8HF4AaABAg   \n",
       "4  2018-12-05T21:30:19Z     0              UgywoWu8TaqkOzGi8HF4AaABAg   \n",
       "5  2018-12-04T11:01:18Z     0              UgywoWu8TaqkOzGi8HF4AaABAg   \n",
       "\n",
       "  is_parent  \n",
       "1        No  \n",
       "2        No  \n",
       "3        No  \n",
       "4        No  \n",
       "5        No  "
      ],
      "text/html": [
       "\n",
       "  <div id=\"df-1a8f76d0-0ba2-4abb-8d59-20706f2f3fbd\">\n",
       "    <div class=\"colab-df-container\">\n",
       "      <div>\n",
       "<style scoped>\n",
       "    .dataframe tbody tr th:only-of-type {\n",
       "        vertical-align: middle;\n",
       "    }\n",
       "\n",
       "    .dataframe tbody tr th {\n",
       "        vertical-align: top;\n",
       "    }\n",
       "\n",
       "    .dataframe thead th {\n",
       "        text-align: right;\n",
       "    }\n",
       "</style>\n",
       "<table border=\"1\" class=\"dataframe\">\n",
       "  <thead>\n",
       "    <tr style=\"text-align: right;\">\n",
       "      <th></th>\n",
       "      <th>name</th>\n",
       "      <th>comment</th>\n",
       "      <th>published_at</th>\n",
       "      <th>likes</th>\n",
       "      <th>Reply Count</th>\n",
       "      <th>parent_id</th>\n",
       "      <th>is_parent</th>\n",
       "    </tr>\n",
       "  </thead>\n",
       "  <tbody>\n",
       "    <tr>\n",
       "      <th>1</th>\n",
       "      <td>Lillie Britt</td>\n",
       "      <td>This go hard and it's been 10yrs already lolz ...</td>\n",
       "      <td>2022-04-23T04:09:14Z</td>\n",
       "      <td>0</td>\n",
       "      <td></td>\n",
       "      <td>UgywoWu8TaqkOzGi8HF4AaABAg</td>\n",
       "      <td>No</td>\n",
       "    </tr>\n",
       "    <tr>\n",
       "      <th>2</th>\n",
       "      <td>Brazilian Simon</td>\n",
       "      <td>Lmao</td>\n",
       "      <td>2018-12-17T06:31:21Z</td>\n",
       "      <td>0</td>\n",
       "      <td></td>\n",
       "      <td>UgywoWu8TaqkOzGi8HF4AaABAg</td>\n",
       "      <td>No</td>\n",
       "    </tr>\n",
       "    <tr>\n",
       "      <th>3</th>\n",
       "      <td>ChocoMintTea</td>\n",
       "      <td>Lmao</td>\n",
       "      <td>2018-12-11T19:52:36Z</td>\n",
       "      <td>1</td>\n",
       "      <td></td>\n",
       "      <td>UgywoWu8TaqkOzGi8HF4AaABAg</td>\n",
       "      <td>No</td>\n",
       "    </tr>\n",
       "    <tr>\n",
       "      <th>4</th>\n",
       "      <td>The Pixel Queen</td>\n",
       "      <td>This will shape the history of YouTube</td>\n",
       "      <td>2018-12-05T21:30:19Z</td>\n",
       "      <td>0</td>\n",
       "      <td></td>\n",
       "      <td>UgywoWu8TaqkOzGi8HF4AaABAg</td>\n",
       "      <td>No</td>\n",
       "    </tr>\n",
       "    <tr>\n",
       "      <th>5</th>\n",
       "      <td>Ringtonez Drashopen</td>\n",
       "      <td>You must be joking! Get the track😂?</td>\n",
       "      <td>2018-12-04T11:01:18Z</td>\n",
       "      <td>0</td>\n",
       "      <td></td>\n",
       "      <td>UgywoWu8TaqkOzGi8HF4AaABAg</td>\n",
       "      <td>No</td>\n",
       "    </tr>\n",
       "  </tbody>\n",
       "</table>\n",
       "</div>\n",
       "      <button class=\"colab-df-convert\" onclick=\"convertToInteractive('df-1a8f76d0-0ba2-4abb-8d59-20706f2f3fbd')\"\n",
       "              title=\"Convert this dataframe to an interactive table.\"\n",
       "              style=\"display:none;\">\n",
       "        \n",
       "  <svg xmlns=\"http://www.w3.org/2000/svg\" height=\"24px\"viewBox=\"0 0 24 24\"\n",
       "       width=\"24px\">\n",
       "    <path d=\"M0 0h24v24H0V0z\" fill=\"none\"/>\n",
       "    <path d=\"M18.56 5.44l.94 2.06.94-2.06 2.06-.94-2.06-.94-.94-2.06-.94 2.06-2.06.94zm-11 1L8.5 8.5l.94-2.06 2.06-.94-2.06-.94L8.5 2.5l-.94 2.06-2.06.94zm10 10l.94 2.06.94-2.06 2.06-.94-2.06-.94-.94-2.06-.94 2.06-2.06.94z\"/><path d=\"M17.41 7.96l-1.37-1.37c-.4-.4-.92-.59-1.43-.59-.52 0-1.04.2-1.43.59L10.3 9.45l-7.72 7.72c-.78.78-.78 2.05 0 2.83L4 21.41c.39.39.9.59 1.41.59.51 0 1.02-.2 1.41-.59l7.78-7.78 2.81-2.81c.8-.78.8-2.07 0-2.86zM5.41 20L4 18.59l7.72-7.72 1.47 1.35L5.41 20z\"/>\n",
       "  </svg>\n",
       "      </button>\n",
       "      \n",
       "  <style>\n",
       "    .colab-df-container {\n",
       "      display:flex;\n",
       "      flex-wrap:wrap;\n",
       "      gap: 12px;\n",
       "    }\n",
       "\n",
       "    .colab-df-convert {\n",
       "      background-color: #E8F0FE;\n",
       "      border: none;\n",
       "      border-radius: 50%;\n",
       "      cursor: pointer;\n",
       "      display: none;\n",
       "      fill: #1967D2;\n",
       "      height: 32px;\n",
       "      padding: 0 0 0 0;\n",
       "      width: 32px;\n",
       "    }\n",
       "\n",
       "    .colab-df-convert:hover {\n",
       "      background-color: #E2EBFA;\n",
       "      box-shadow: 0px 1px 2px rgba(60, 64, 67, 0.3), 0px 1px 3px 1px rgba(60, 64, 67, 0.15);\n",
       "      fill: #174EA6;\n",
       "    }\n",
       "\n",
       "    [theme=dark] .colab-df-convert {\n",
       "      background-color: #3B4455;\n",
       "      fill: #D2E3FC;\n",
       "    }\n",
       "\n",
       "    [theme=dark] .colab-df-convert:hover {\n",
       "      background-color: #434B5C;\n",
       "      box-shadow: 0px 1px 3px 1px rgba(0, 0, 0, 0.15);\n",
       "      filter: drop-shadow(0px 1px 2px rgba(0, 0, 0, 0.3));\n",
       "      fill: #FFFFFF;\n",
       "    }\n",
       "  </style>\n",
       "\n",
       "      <script>\n",
       "        const buttonEl =\n",
       "          document.querySelector('#df-1a8f76d0-0ba2-4abb-8d59-20706f2f3fbd button.colab-df-convert');\n",
       "        buttonEl.style.display =\n",
       "          google.colab.kernel.accessAllowed ? 'block' : 'none';\n",
       "\n",
       "        async function convertToInteractive(key) {\n",
       "          const element = document.querySelector('#df-1a8f76d0-0ba2-4abb-8d59-20706f2f3fbd');\n",
       "          const dataTable =\n",
       "            await google.colab.kernel.invokeFunction('convertToInteractive',\n",
       "                                                     [key], {});\n",
       "          if (!dataTable) return;\n",
       "\n",
       "          const docLinkHtml = 'Like what you see? Visit the ' +\n",
       "            '<a target=\"_blank\" href=https://colab.research.google.com/notebooks/data_table.ipynb>data table notebook</a>'\n",
       "            + ' to learn more about interactive tables.';\n",
       "          element.innerHTML = '';\n",
       "          dataTable['output_type'] = 'display_data';\n",
       "          await google.colab.output.renderOutput(dataTable, element);\n",
       "          const docLink = document.createElement('div');\n",
       "          docLink.innerHTML = docLinkHtml;\n",
       "          element.appendChild(docLink);\n",
       "        }\n",
       "      </script>\n",
       "    </div>\n",
       "  </div>\n",
       "  "
      ],
      "application/vnd.google.colaboratory.module+javascript": "\n      import \"https://ssl.gstatic.com/colaboratory/data_table/f872b2c2305463fd/data_table.js\";\n\n      window.createDataTable({\n        data: [[{\n            'v': 1,\n            'f': \"1\",\n        },\n\"Lillie Britt\",\n\"This go hard and it's been 10yrs already lolz I still love this song\",\n\"2022-04-23T04:09:14Z\",\n{\n            'v': 0,\n            'f': \"0\",\n        },\n\"\",\n\"UgywoWu8TaqkOzGi8HF4AaABAg\",\n\"No\"],\n [{\n            'v': 2,\n            'f': \"2\",\n        },\n\"Brazilian Simon\",\n\"Lmao\",\n\"2018-12-17T06:31:21Z\",\n{\n            'v': 0,\n            'f': \"0\",\n        },\n\"\",\n\"UgywoWu8TaqkOzGi8HF4AaABAg\",\n\"No\"],\n [{\n            'v': 3,\n            'f': \"3\",\n        },\n\"ChocoMintTea\",\n\"Lmao\",\n\"2018-12-11T19:52:36Z\",\n{\n            'v': 1,\n            'f': \"1\",\n        },\n\"\",\n\"UgywoWu8TaqkOzGi8HF4AaABAg\",\n\"No\"],\n [{\n            'v': 4,\n            'f': \"4\",\n        },\n\"The Pixel Queen\",\n\"This will shape the history of YouTube\",\n\"2018-12-05T21:30:19Z\",\n{\n            'v': 0,\n            'f': \"0\",\n        },\n\"\",\n\"UgywoWu8TaqkOzGi8HF4AaABAg\",\n\"No\"],\n [{\n            'v': 5,\n            'f': \"5\",\n        },\n\"Ringtonez Drashopen\",\n\"You must be joking! Get the track\\ud83d\\ude02?\",\n\"2018-12-04T11:01:18Z\",\n{\n            'v': 0,\n            'f': \"0\",\n        },\n\"\",\n\"UgywoWu8TaqkOzGi8HF4AaABAg\",\n\"No\"]],\n        columns: [[\"number\", \"index\"], [\"string\", \"name\"], [\"string\", \"comment\"], [\"string\", \"published_at\"], [\"number\", \"likes\"], [\"string\", \"Reply Count\"], [\"string\", \"parent_id\"], [\"string\", \"is_parent\"]],\n        columnOptions: [{\"width\": \"1px\", \"className\": \"index_column\"}],\n        rowsPerPage: 25,\n        helpUrl: \"https://colab.research.google.com/notebooks/data_table.ipynb\",\n        suppressOutputScrolling: true,\n        minimumWidth: undefined,\n      });\n    "
     },
     "metadata": {},
     "execution_count": 29
    }
   ]
  },
  {
   "cell_type": "markdown",
   "source": [
    "**Combining the datasets**"
   ],
   "metadata": {
    "id": "Mew1PJKVzedN",
    "pycharm": {
     "name": "#%% md\n"
    }
   }
  },
  {
   "cell_type": "code",
   "source": [
    "df_all = pd.concat([sql_vids, sql_vids_replies])"
   ],
   "metadata": {
    "id": "s9oyLvwLy18S",
    "executionInfo": {
     "status": "ok",
     "timestamp": 1653089220807,
     "user_tz": 240,
     "elapsed": 159,
     "user": {
      "displayName": "Abhinav Bajpai",
      "userId": "18241986054121611863"
     }
    },
    "pycharm": {
     "name": "#%%\n"
    }
   },
   "execution_count": 30,
   "outputs": []
  },
  {
   "cell_type": "code",
   "source": [
    "# Total # of records\n",
    "len(df_all)"
   ],
   "metadata": {
    "colab": {
     "base_uri": "https://localhost:8080/"
    },
    "id": "PmkRqrGVy8TV",
    "executionInfo": {
     "status": "ok",
     "timestamp": 1653089229585,
     "user_tz": 240,
     "elapsed": 145,
     "user": {
      "displayName": "Abhinav Bajpai",
      "userId": "18241986054121611863"
     }
    },
    "outputId": "002b939d-b45b-4555-9831-6688c905919a",
    "pycharm": {
     "name": "#%%\n"
    }
   },
   "execution_count": 31,
   "outputs": [
    {
     "output_type": "execute_result",
     "data": {
      "text/plain": [
       "136584"
      ]
     },
     "metadata": {},
     "execution_count": 31
    }
   ]
  },
  {
   "cell_type": "code",
   "source": [
    "# Saving files\n",
    "df_all.to_csv('/content/drive/MyDrive/3. IU Courses/Courses/7. FADS/05202022_youtube_comments.csv',encoding='utf_8_sig')\n",
    "df_all.to_pickle('/content/drive/MyDrive/3. IU Courses/Courses/7. FADS/05202022_youtube_comments.pkl')"
   ],
   "metadata": {
    "id": "j0EDQDZnQpvC",
    "executionInfo": {
     "status": "ok",
     "timestamp": 1653089280189,
     "user_tz": 240,
     "elapsed": 2061,
     "user": {
      "displayName": "Abhinav Bajpai",
      "userId": "18241986054121611863"
     }
    },
    "pycharm": {
     "name": "#%%\n"
    }
   },
   "execution_count": 33,
   "outputs": []
  }
 ]
}
