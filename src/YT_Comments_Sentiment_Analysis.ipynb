{
 "cells": [
  {
   "cell_type": "code",
   "execution_count": 1,
   "metadata": {
    "collapsed": true,
    "pycharm": {
     "name": "#%%\n"
    }
   },
   "outputs": [
    {
     "name": "stdout",
     "output_type": "stream",
     "text": [
      "Collecting vaderSentiment\r\n",
      "  Downloading vaderSentiment-3.3.2-py2.py3-none-any.whl (125 kB)\r\n",
      "\u001B[K     |████████████████████████████████| 125 kB 2.5 MB/s eta 0:00:01\r\n",
      "\u001B[?25hRequirement already satisfied: requests in /Users/abhinavbajpai/opt/anaconda3/lib/python3.9/site-packages (from vaderSentiment) (2.27.1)\r\n",
      "Requirement already satisfied: idna<4,>=2.5 in /Users/abhinavbajpai/opt/anaconda3/lib/python3.9/site-packages (from requests->vaderSentiment) (3.3)\r\n",
      "Requirement already satisfied: charset-normalizer~=2.0.0 in /Users/abhinavbajpai/opt/anaconda3/lib/python3.9/site-packages (from requests->vaderSentiment) (2.0.4)\r\n",
      "Requirement already satisfied: urllib3<1.27,>=1.21.1 in /Users/abhinavbajpai/opt/anaconda3/lib/python3.9/site-packages (from requests->vaderSentiment) (1.26.9)\r\n",
      "Requirement already satisfied: certifi>=2017.4.17 in /Users/abhinavbajpai/opt/anaconda3/lib/python3.9/site-packages (from requests->vaderSentiment) (2021.10.8)\r\n",
      "Installing collected packages: vaderSentiment\r\n",
      "Successfully installed vaderSentiment-3.3.2\r\n"
     ]
    }
   ],
   "source": [
    "!pip install vaderSentiment"
   ]
  },
  {
   "cell_type": "code",
   "execution_count": 2,
   "outputs": [],
   "source": [
    "import pandas as pd\n",
    "import os\n",
    "import numpy as np\n",
    "from vaderSentiment.vaderSentiment import SentimentIntensityAnalyzer"
   ],
   "metadata": {
    "collapsed": false,
    "pycharm": {
     "name": "#%%\n"
    }
   }
  },
  {
   "cell_type": "code",
   "execution_count": 3,
   "outputs": [],
   "source": [
    "df = pd.read_excel('../output/06062022_clean_data.xlsx')"
   ],
   "metadata": {
    "collapsed": false,
    "pycharm": {
     "name": "#%%\n"
    }
   }
  },
  {
   "cell_type": "code",
   "execution_count": 4,
   "outputs": [
    {
     "data": {
      "text/plain": "                 name                                            comment  \\\n0           schmoyoho  Stream the track! https://open.spotify.com/alb...   \n1             Roweman              I wonder if they caught that intruder   \n2        xxCordellMxx    Why did I say this out loud when I was younger?   \n3  Nicholas DiGaetano                       The rapist was never caught?   \n4         Tango Bodhi                           This will never get old.   \n\n           published_at  likes  Reply Count                   parent_id  \\\n0  2018-07-12T18:42:05Z  13950        188.0  UgywoWu8TaqkOzGi8HF4AaABAg   \n1  2022-04-23T00:46:20Z      1          0.0  UgyUDUe6xUHoX5ziaql4AaABAg   \n2  2022-04-21T20:27:23Z      0          0.0  Ugx9p0We_6_2c5etHQZ4AaABAg   \n3  2022-04-21T04:17:40Z      0          0.0  Ugz-Y1LK6QpBOVv2WI54AaABAg   \n4  2022-04-20T18:27:49Z      0          0.0  UgyHtE_H7Y5OOda5gfZ4AaABAg   \n\n  is_parent                                      comment_lower  \\\n0       Yes  stream the track! https://open.spotify.com/alb...   \n1       Yes              i wonder if they caught that intruder   \n2       Yes    why did i say this out loud when i was younger?   \n3       Yes                       the rapist was never caught?   \n4       Yes                           this will never get old.   \n\n                                      clean_comments  impurity  year  month  \\\n0  stream the track!  (proceeds to dodsons gregor...       0.0  2018      7   \n1              i wonder if they caught that intruder       0.0  2022      4   \n2    why did i say this out loud when i was younger?       0.0  2022      4   \n3                       the rapist was never caught?       0.0  2022      4   \n4                           this will never get old.       0.0  2022      4   \n\n                                              lemmas           adjs_verbs  \\\n0  ['stream', 'track', 'proceed', 'dodson', 'greg...  ['stream', 'great']   \n1                    ['wonder', 'catch', 'intruder']  ['wonder', 'catch']   \n2                                  ['loud', 'young']            ['young']   \n3                                ['rapist', 'catch']            ['catch']   \n4                                            ['old']              ['old']   \n\n                                               nouns      noun_phrases  \\\n0  ['track', 'proceed', 'dodson', 'antoine', 'cam...  ['bed_intruder']   \n1                                       ['intruder']                []   \n2                                                 []                []   \n3                                         ['rapist']                []   \n4                                                 []                []   \n\n  adj_noun_phrases Verb_noun_phrases  \\\n0   ['great_gift']                []   \n1               []                []   \n2               []                []   \n3               []                []   \n4               []                []   \n\n                                        lemmasNgrams  \n0  ['stream', 'track', 'proceed_dodson', 'gregory...  \n1                       ['wonder_catch', 'intruder']  \n2                                  ['loud', 'young']  \n3                                ['rapist', 'catch']  \n4                                            ['old']  ",
      "text/html": "<div>\n<style scoped>\n    .dataframe tbody tr th:only-of-type {\n        vertical-align: middle;\n    }\n\n    .dataframe tbody tr th {\n        vertical-align: top;\n    }\n\n    .dataframe thead th {\n        text-align: right;\n    }\n</style>\n<table border=\"1\" class=\"dataframe\">\n  <thead>\n    <tr style=\"text-align: right;\">\n      <th></th>\n      <th>name</th>\n      <th>comment</th>\n      <th>published_at</th>\n      <th>likes</th>\n      <th>Reply Count</th>\n      <th>parent_id</th>\n      <th>is_parent</th>\n      <th>comment_lower</th>\n      <th>clean_comments</th>\n      <th>impurity</th>\n      <th>year</th>\n      <th>month</th>\n      <th>lemmas</th>\n      <th>adjs_verbs</th>\n      <th>nouns</th>\n      <th>noun_phrases</th>\n      <th>adj_noun_phrases</th>\n      <th>Verb_noun_phrases</th>\n      <th>lemmasNgrams</th>\n    </tr>\n  </thead>\n  <tbody>\n    <tr>\n      <th>0</th>\n      <td>schmoyoho</td>\n      <td>Stream the track! https://open.spotify.com/alb...</td>\n      <td>2018-07-12T18:42:05Z</td>\n      <td>13950</td>\n      <td>188.0</td>\n      <td>UgywoWu8TaqkOzGi8HF4AaABAg</td>\n      <td>Yes</td>\n      <td>stream the track! https://open.spotify.com/alb...</td>\n      <td>stream the track!  (proceeds to dodsons gregor...</td>\n      <td>0.0</td>\n      <td>2018</td>\n      <td>7</td>\n      <td>['stream', 'track', 'proceed', 'dodson', 'greg...</td>\n      <td>['stream', 'great']</td>\n      <td>['track', 'proceed', 'dodson', 'antoine', 'cam...</td>\n      <td>['bed_intruder']</td>\n      <td>['great_gift']</td>\n      <td>[]</td>\n      <td>['stream', 'track', 'proceed_dodson', 'gregory...</td>\n    </tr>\n    <tr>\n      <th>1</th>\n      <td>Roweman</td>\n      <td>I wonder if they caught that intruder</td>\n      <td>2022-04-23T00:46:20Z</td>\n      <td>1</td>\n      <td>0.0</td>\n      <td>UgyUDUe6xUHoX5ziaql4AaABAg</td>\n      <td>Yes</td>\n      <td>i wonder if they caught that intruder</td>\n      <td>i wonder if they caught that intruder</td>\n      <td>0.0</td>\n      <td>2022</td>\n      <td>4</td>\n      <td>['wonder', 'catch', 'intruder']</td>\n      <td>['wonder', 'catch']</td>\n      <td>['intruder']</td>\n      <td>[]</td>\n      <td>[]</td>\n      <td>[]</td>\n      <td>['wonder_catch', 'intruder']</td>\n    </tr>\n    <tr>\n      <th>2</th>\n      <td>xxCordellMxx</td>\n      <td>Why did I say this out loud when I was younger?</td>\n      <td>2022-04-21T20:27:23Z</td>\n      <td>0</td>\n      <td>0.0</td>\n      <td>Ugx9p0We_6_2c5etHQZ4AaABAg</td>\n      <td>Yes</td>\n      <td>why did i say this out loud when i was younger?</td>\n      <td>why did i say this out loud when i was younger?</td>\n      <td>0.0</td>\n      <td>2022</td>\n      <td>4</td>\n      <td>['loud', 'young']</td>\n      <td>['young']</td>\n      <td>[]</td>\n      <td>[]</td>\n      <td>[]</td>\n      <td>[]</td>\n      <td>['loud', 'young']</td>\n    </tr>\n    <tr>\n      <th>3</th>\n      <td>Nicholas DiGaetano</td>\n      <td>The rapist was never caught?</td>\n      <td>2022-04-21T04:17:40Z</td>\n      <td>0</td>\n      <td>0.0</td>\n      <td>Ugz-Y1LK6QpBOVv2WI54AaABAg</td>\n      <td>Yes</td>\n      <td>the rapist was never caught?</td>\n      <td>the rapist was never caught?</td>\n      <td>0.0</td>\n      <td>2022</td>\n      <td>4</td>\n      <td>['rapist', 'catch']</td>\n      <td>['catch']</td>\n      <td>['rapist']</td>\n      <td>[]</td>\n      <td>[]</td>\n      <td>[]</td>\n      <td>['rapist', 'catch']</td>\n    </tr>\n    <tr>\n      <th>4</th>\n      <td>Tango Bodhi</td>\n      <td>This will never get old.</td>\n      <td>2022-04-20T18:27:49Z</td>\n      <td>0</td>\n      <td>0.0</td>\n      <td>UgyHtE_H7Y5OOda5gfZ4AaABAg</td>\n      <td>Yes</td>\n      <td>this will never get old.</td>\n      <td>this will never get old.</td>\n      <td>0.0</td>\n      <td>2022</td>\n      <td>4</td>\n      <td>['old']</td>\n      <td>['old']</td>\n      <td>[]</td>\n      <td>[]</td>\n      <td>[]</td>\n      <td>[]</td>\n      <td>['old']</td>\n    </tr>\n  </tbody>\n</table>\n</div>"
     },
     "execution_count": 4,
     "metadata": {},
     "output_type": "execute_result"
    }
   ],
   "source": [
    "df.head()"
   ],
   "metadata": {
    "collapsed": false,
    "pycharm": {
     "name": "#%%\n"
    }
   }
  },
  {
   "cell_type": "code",
   "execution_count": 6,
   "outputs": [],
   "source": [
    "analyzer = SentimentIntensityAnalyzer()\n",
    "df['clean_comments'] = df['clean_comments'].map(str)\n",
    "df['sentiment'] = df['clean_comments'].apply(lambda x: analyzer.polarity_scores(x))\n",
    "df['compound'] = df['sentiment'].apply(lambda score_dict: score_dict['compound'])\n",
    "df['positive'] = df['sentiment'].apply(lambda score_dict: score_dict['pos'])\n",
    "df['negative'] = df['sentiment'].apply(lambda score_dict: score_dict['neg'])\n",
    "df['neutral'] = df['sentiment'].apply(lambda score_dict: score_dict['neu'])"
   ],
   "metadata": {
    "collapsed": false,
    "pycharm": {
     "name": "#%%\n"
    }
   }
  },
  {
   "cell_type": "code",
   "execution_count": 7,
   "outputs": [],
   "source": [
    "# Assigning labels (positive, neutral and negative sentiments)\n",
    "df.loc[df.compound > .5, 'sentiment_type'] = 'POSITIVE'\n",
    "df.loc[(df.compound >= -.5) & (df.compound <= .5), 'sentiment_type'] = 'NEUTRAL'\n",
    "df.loc[df.compound < -.5, 'sentiment_type'] = 'NEGATIVE'"
   ],
   "metadata": {
    "collapsed": false,
    "pycharm": {
     "name": "#%%\n"
    }
   }
  },
  {
   "cell_type": "code",
   "execution_count": 8,
   "outputs": [
    {
     "data": {
      "text/plain": "                 name                                            comment  \\\n0           schmoyoho  Stream the track! https://open.spotify.com/alb...   \n1             Roweman              I wonder if they caught that intruder   \n2        xxCordellMxx    Why did I say this out loud when I was younger?   \n3  Nicholas DiGaetano                       The rapist was never caught?   \n4         Tango Bodhi                           This will never get old.   \n\n           published_at  likes  Reply Count                   parent_id  \\\n0  2018-07-12T18:42:05Z  13950        188.0  UgywoWu8TaqkOzGi8HF4AaABAg   \n1  2022-04-23T00:46:20Z      1          0.0  UgyUDUe6xUHoX5ziaql4AaABAg   \n2  2022-04-21T20:27:23Z      0          0.0  Ugx9p0We_6_2c5etHQZ4AaABAg   \n3  2022-04-21T04:17:40Z      0          0.0  Ugz-Y1LK6QpBOVv2WI54AaABAg   \n4  2022-04-20T18:27:49Z      0          0.0  UgyHtE_H7Y5OOda5gfZ4AaABAg   \n\n  is_parent                                      comment_lower  \\\n0       Yes  stream the track! https://open.spotify.com/alb...   \n1       Yes              i wonder if they caught that intruder   \n2       Yes    why did i say this out loud when i was younger?   \n3       Yes                       the rapist was never caught?   \n4       Yes                           this will never get old.   \n\n                                      clean_comments  impurity  ...  \\\n0  stream the track!  (proceeds to dodsons gregor...       0.0  ...   \n1              i wonder if they caught that intruder       0.0  ...   \n2    why did i say this out loud when i was younger?       0.0  ...   \n3                       the rapist was never caught?       0.0  ...   \n4                           this will never get old.       0.0  ...   \n\n       noun_phrases  adj_noun_phrases Verb_noun_phrases  \\\n0  ['bed_intruder']    ['great_gift']                []   \n1                []                []                []   \n2                []                []                []   \n3                []                []                []   \n4                []                []                []   \n\n                                        lemmasNgrams  \\\n0  ['stream', 'track', 'proceed_dodson', 'gregory...   \n1                       ['wonder_catch', 'intruder']   \n2                                  ['loud', 'young']   \n3                                ['rapist', 'catch']   \n4                                            ['old']   \n\n                                           sentiment compound positive  \\\n0  {'neg': 0.0, 'neu': 0.725, 'pos': 0.275, 'comp...   0.8392    0.275   \n1  {'neg': 0.0, 'neu': 1.0, 'pos': 0.0, 'compound...   0.0000    0.000   \n2  {'neg': 0.0, 'neu': 1.0, 'pos': 0.0, 'compound...   0.0000    0.000   \n3  {'neg': 0.551, 'neu': 0.449, 'pos': 0.0, 'comp...  -0.7096    0.000   \n4  {'neg': 0.0, 'neu': 1.0, 'pos': 0.0, 'compound...   0.0000    0.000   \n\n  negative neutral sentiment_type  \n0    0.000   0.725       POSITIVE  \n1    0.000   1.000        NEUTRAL  \n2    0.000   1.000        NEUTRAL  \n3    0.551   0.449       NEGATIVE  \n4    0.000   1.000        NEUTRAL  \n\n[5 rows x 25 columns]",
      "text/html": "<div>\n<style scoped>\n    .dataframe tbody tr th:only-of-type {\n        vertical-align: middle;\n    }\n\n    .dataframe tbody tr th {\n        vertical-align: top;\n    }\n\n    .dataframe thead th {\n        text-align: right;\n    }\n</style>\n<table border=\"1\" class=\"dataframe\">\n  <thead>\n    <tr style=\"text-align: right;\">\n      <th></th>\n      <th>name</th>\n      <th>comment</th>\n      <th>published_at</th>\n      <th>likes</th>\n      <th>Reply Count</th>\n      <th>parent_id</th>\n      <th>is_parent</th>\n      <th>comment_lower</th>\n      <th>clean_comments</th>\n      <th>impurity</th>\n      <th>...</th>\n      <th>noun_phrases</th>\n      <th>adj_noun_phrases</th>\n      <th>Verb_noun_phrases</th>\n      <th>lemmasNgrams</th>\n      <th>sentiment</th>\n      <th>compound</th>\n      <th>positive</th>\n      <th>negative</th>\n      <th>neutral</th>\n      <th>sentiment_type</th>\n    </tr>\n  </thead>\n  <tbody>\n    <tr>\n      <th>0</th>\n      <td>schmoyoho</td>\n      <td>Stream the track! https://open.spotify.com/alb...</td>\n      <td>2018-07-12T18:42:05Z</td>\n      <td>13950</td>\n      <td>188.0</td>\n      <td>UgywoWu8TaqkOzGi8HF4AaABAg</td>\n      <td>Yes</td>\n      <td>stream the track! https://open.spotify.com/alb...</td>\n      <td>stream the track!  (proceeds to dodsons gregor...</td>\n      <td>0.0</td>\n      <td>...</td>\n      <td>['bed_intruder']</td>\n      <td>['great_gift']</td>\n      <td>[]</td>\n      <td>['stream', 'track', 'proceed_dodson', 'gregory...</td>\n      <td>{'neg': 0.0, 'neu': 0.725, 'pos': 0.275, 'comp...</td>\n      <td>0.8392</td>\n      <td>0.275</td>\n      <td>0.000</td>\n      <td>0.725</td>\n      <td>POSITIVE</td>\n    </tr>\n    <tr>\n      <th>1</th>\n      <td>Roweman</td>\n      <td>I wonder if they caught that intruder</td>\n      <td>2022-04-23T00:46:20Z</td>\n      <td>1</td>\n      <td>0.0</td>\n      <td>UgyUDUe6xUHoX5ziaql4AaABAg</td>\n      <td>Yes</td>\n      <td>i wonder if they caught that intruder</td>\n      <td>i wonder if they caught that intruder</td>\n      <td>0.0</td>\n      <td>...</td>\n      <td>[]</td>\n      <td>[]</td>\n      <td>[]</td>\n      <td>['wonder_catch', 'intruder']</td>\n      <td>{'neg': 0.0, 'neu': 1.0, 'pos': 0.0, 'compound...</td>\n      <td>0.0000</td>\n      <td>0.000</td>\n      <td>0.000</td>\n      <td>1.000</td>\n      <td>NEUTRAL</td>\n    </tr>\n    <tr>\n      <th>2</th>\n      <td>xxCordellMxx</td>\n      <td>Why did I say this out loud when I was younger?</td>\n      <td>2022-04-21T20:27:23Z</td>\n      <td>0</td>\n      <td>0.0</td>\n      <td>Ugx9p0We_6_2c5etHQZ4AaABAg</td>\n      <td>Yes</td>\n      <td>why did i say this out loud when i was younger?</td>\n      <td>why did i say this out loud when i was younger?</td>\n      <td>0.0</td>\n      <td>...</td>\n      <td>[]</td>\n      <td>[]</td>\n      <td>[]</td>\n      <td>['loud', 'young']</td>\n      <td>{'neg': 0.0, 'neu': 1.0, 'pos': 0.0, 'compound...</td>\n      <td>0.0000</td>\n      <td>0.000</td>\n      <td>0.000</td>\n      <td>1.000</td>\n      <td>NEUTRAL</td>\n    </tr>\n    <tr>\n      <th>3</th>\n      <td>Nicholas DiGaetano</td>\n      <td>The rapist was never caught?</td>\n      <td>2022-04-21T04:17:40Z</td>\n      <td>0</td>\n      <td>0.0</td>\n      <td>Ugz-Y1LK6QpBOVv2WI54AaABAg</td>\n      <td>Yes</td>\n      <td>the rapist was never caught?</td>\n      <td>the rapist was never caught?</td>\n      <td>0.0</td>\n      <td>...</td>\n      <td>[]</td>\n      <td>[]</td>\n      <td>[]</td>\n      <td>['rapist', 'catch']</td>\n      <td>{'neg': 0.551, 'neu': 0.449, 'pos': 0.0, 'comp...</td>\n      <td>-0.7096</td>\n      <td>0.000</td>\n      <td>0.551</td>\n      <td>0.449</td>\n      <td>NEGATIVE</td>\n    </tr>\n    <tr>\n      <th>4</th>\n      <td>Tango Bodhi</td>\n      <td>This will never get old.</td>\n      <td>2022-04-20T18:27:49Z</td>\n      <td>0</td>\n      <td>0.0</td>\n      <td>UgyHtE_H7Y5OOda5gfZ4AaABAg</td>\n      <td>Yes</td>\n      <td>this will never get old.</td>\n      <td>this will never get old.</td>\n      <td>0.0</td>\n      <td>...</td>\n      <td>[]</td>\n      <td>[]</td>\n      <td>[]</td>\n      <td>['old']</td>\n      <td>{'neg': 0.0, 'neu': 1.0, 'pos': 0.0, 'compound...</td>\n      <td>0.0000</td>\n      <td>0.000</td>\n      <td>0.000</td>\n      <td>1.000</td>\n      <td>NEUTRAL</td>\n    </tr>\n  </tbody>\n</table>\n<p>5 rows × 25 columns</p>\n</div>"
     },
     "execution_count": 8,
     "metadata": {},
     "output_type": "execute_result"
    }
   ],
   "source": [
    "df.head()"
   ],
   "metadata": {
    "collapsed": false,
    "pycharm": {
     "name": "#%%\n"
    }
   }
  },
  {
   "cell_type": "code",
   "execution_count": 9,
   "outputs": [
    {
     "data": {
      "text/plain": "sentiment_type\nNEUTRAL     86175\nPOSITIVE    32323\nNEGATIVE    18085\ndtype: int64"
     },
     "execution_count": 9,
     "metadata": {},
     "output_type": "execute_result"
    }
   ],
   "source": [
    "df.value_counts('sentiment_type')"
   ],
   "metadata": {
    "collapsed": false,
    "pycharm": {
     "name": "#%%\n"
    }
   }
  }
 ],
 "metadata": {
  "kernelspec": {
   "display_name": "Python 3",
   "language": "python",
   "name": "python3"
  },
  "language_info": {
   "codemirror_mode": {
    "name": "ipython",
    "version": 2
   },
   "file_extension": ".py",
   "mimetype": "text/x-python",
   "name": "python",
   "nbconvert_exporter": "python",
   "pygments_lexer": "ipython2",
   "version": "2.7.6"
  }
 },
 "nbformat": 4,
 "nbformat_minor": 0
}