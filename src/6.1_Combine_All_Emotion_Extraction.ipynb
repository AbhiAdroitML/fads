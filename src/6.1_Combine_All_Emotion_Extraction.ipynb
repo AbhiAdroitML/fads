{
 "cells": [
  {
   "cell_type": "code",
   "execution_count": 1,
   "metadata": {
    "collapsed": false,
    "pycharm": {
     "name": "#%%\n"
    }
   },
   "outputs": [
    {
     "name": "stdout",
     "output_type": "stream",
     "text": [
      "Requirement already satisfied: pickle5 in /geode2/home/u010/abbajpai/Carbonate/.conda/envs/abhipy/lib/python3.9/site-packages (0.0.11)\r\n"
     ]
    }
   ],
   "source": [
    "# Install a pip package in the current Jupyter kernel\n",
    "import sys\n",
    "!{sys.executable} -m pip install pickle5"
   ]
  },
  {
   "cell_type": "code",
   "execution_count": 2,
   "metadata": {
    "collapsed": true,
    "pycharm": {
     "name": "#%%\n"
    }
   },
   "outputs": [],
   "source": [
    "import pandas as pd\n",
    "import os\n",
    "import pickle5 as pickle"
   ]
  },
  {
   "cell_type": "code",
   "execution_count": null,
   "metadata": {
    "collapsed": false,
    "pycharm": {
     "name": "#%%\n"
    }
   },
   "outputs": [],
   "source": [
    "import sys\n",
    "!{sys.executable} -m pip install pandas==1.4.1"
   ]
  },
  {
   "cell_type": "markdown",
   "metadata": {
    "pycharm": {
     "name": "#%% md\n"
    }
   },
   "source": [
    "#### Detoxify Output"
   ]
  },
  {
   "cell_type": "code",
   "execution_count": 46,
   "metadata": {
    "collapsed": false,
    "pycharm": {
     "name": "#%%\n"
    }
   },
   "outputs": [],
   "source": [
    "final_df = pd.read_pickle('Final_Combined_Df_Detoxify_Results.pkl')"
   ]
  },
  {
   "cell_type": "code",
   "execution_count": 12,
   "metadata": {
    "collapsed": false,
    "pycharm": {
     "name": "#%%\n"
    }
   },
   "outputs": [
    {
     "data": {
      "text/html": [
       "<div>\n",
       "<style scoped>\n",
       "    .dataframe tbody tr th:only-of-type {\n",
       "        vertical-align: middle;\n",
       "    }\n",
       "\n",
       "    .dataframe tbody tr th {\n",
       "        vertical-align: top;\n",
       "    }\n",
       "\n",
       "    .dataframe thead th {\n",
       "        text-align: right;\n",
       "    }\n",
       "</style>\n",
       "<table border=\"1\" class=\"dataframe\">\n",
       "  <thead>\n",
       "    <tr style=\"text-align: right;\">\n",
       "      <th></th>\n",
       "      <th>name</th>\n",
       "      <th>comment</th>\n",
       "      <th>published_at</th>\n",
       "      <th>likes</th>\n",
       "      <th>Reply Count</th>\n",
       "      <th>parent_id</th>\n",
       "      <th>is_parent</th>\n",
       "      <th>video_link</th>\n",
       "      <th>date</th>\n",
       "      <th>reply_count</th>\n",
       "      <th>...</th>\n",
       "      <th>Verb_noun_phrases</th>\n",
       "      <th>lemmasNgrams</th>\n",
       "      <th>toxicity</th>\n",
       "      <th>severe_toxicity</th>\n",
       "      <th>obscene</th>\n",
       "      <th>identity_attack</th>\n",
       "      <th>insult</th>\n",
       "      <th>sexual_explicit</th>\n",
       "      <th>threat</th>\n",
       "      <th>toxicity_check</th>\n",
       "    </tr>\n",
       "  </thead>\n",
       "  <tbody>\n",
       "    <tr>\n",
       "      <th>0</th>\n",
       "      <td>schmoyoho</td>\n",
       "      <td>Stream the track! https://open.spotify.com/alb...</td>\n",
       "      <td>2018-07-12T18:42:05Z</td>\n",
       "      <td>13998</td>\n",
       "      <td>189</td>\n",
       "      <td>UgywoWu8TaqkOzGi8HF4AaABAg</td>\n",
       "      <td>Yes</td>\n",
       "      <td>Bed Intruder</td>\n",
       "      <td>NaT</td>\n",
       "      <td>NaN</td>\n",
       "      <td>...</td>\n",
       "      <td>[]</td>\n",
       "      <td>[stream, track, httpsopen.spotify.comalbum6vw3...</td>\n",
       "      <td>0.001302</td>\n",
       "      <td>0.000004</td>\n",
       "      <td>0.000187</td>\n",
       "      <td>0.000187</td>\n",
       "      <td>0.000302</td>\n",
       "      <td>0.000081</td>\n",
       "      <td>0.000028</td>\n",
       "      <td>None</td>\n",
       "    </tr>\n",
       "    <tr>\n",
       "      <th>1</th>\n",
       "      <td>j • d i</td>\n",
       "      <td>youtube bros tho 😸🤍🎼👏🏻👏🏻👏🏻👏🏻👏🏻👏🏻👏🏻👏🏻  lol</td>\n",
       "      <td>2022-05-15T14:29:59Z</td>\n",
       "      <td>0</td>\n",
       "      <td>0</td>\n",
       "      <td>UgyfeNHiP8lcSxAr2qB4AaABAg</td>\n",
       "      <td>Yes</td>\n",
       "      <td>Bed Intruder</td>\n",
       "      <td>NaT</td>\n",
       "      <td>NaN</td>\n",
       "      <td>...</td>\n",
       "      <td>[]</td>\n",
       "      <td>[youtube, bro, tho, lol]</td>\n",
       "      <td>0.002</td>\n",
       "      <td>0.000002</td>\n",
       "      <td>0.000095</td>\n",
       "      <td>0.000172</td>\n",
       "      <td>0.000422</td>\n",
       "      <td>0.000031</td>\n",
       "      <td>0.000037</td>\n",
       "      <td>None</td>\n",
       "    </tr>\n",
       "    <tr>\n",
       "      <th>2</th>\n",
       "      <td>Lonn Roberts</td>\n",
       "      <td>this songs been in my head all day</td>\n",
       "      <td>2022-05-15T03:42:37Z</td>\n",
       "      <td>0</td>\n",
       "      <td>0</td>\n",
       "      <td>UgxHvi5Eu_iPCzenYkN4AaABAg</td>\n",
       "      <td>Yes</td>\n",
       "      <td>Bed Intruder</td>\n",
       "      <td>NaT</td>\n",
       "      <td>NaN</td>\n",
       "      <td>...</td>\n",
       "      <td>[]</td>\n",
       "      <td>[song, head_day]</td>\n",
       "      <td>0.001683</td>\n",
       "      <td>0.000003</td>\n",
       "      <td>0.000101</td>\n",
       "      <td>0.000103</td>\n",
       "      <td>0.000286</td>\n",
       "      <td>0.000077</td>\n",
       "      <td>0.000057</td>\n",
       "      <td>None</td>\n",
       "    </tr>\n",
       "    <tr>\n",
       "      <th>3</th>\n",
       "      <td>Weapon</td>\n",
       "      <td>Peak internet glory days</td>\n",
       "      <td>2022-05-14T19:55:01Z</td>\n",
       "      <td>1</td>\n",
       "      <td>0</td>\n",
       "      <td>UgwzacFLCUiYgSpm2554AaABAg</td>\n",
       "      <td>Yes</td>\n",
       "      <td>Bed Intruder</td>\n",
       "      <td>NaT</td>\n",
       "      <td>NaN</td>\n",
       "      <td>...</td>\n",
       "      <td>[]</td>\n",
       "      <td>[peak_internet, glory_day]</td>\n",
       "      <td>0.001045</td>\n",
       "      <td>0.000002</td>\n",
       "      <td>0.000038</td>\n",
       "      <td>0.000149</td>\n",
       "      <td>0.000195</td>\n",
       "      <td>0.000017</td>\n",
       "      <td>0.000035</td>\n",
       "      <td>None</td>\n",
       "    </tr>\n",
       "    <tr>\n",
       "      <th>4</th>\n",
       "      <td>sbi</td>\n",
       "      <td>So my question. Did they find the rapist is Li...</td>\n",
       "      <td>2022-05-14T16:47:53Z</td>\n",
       "      <td>0</td>\n",
       "      <td>0</td>\n",
       "      <td>UgxxcUMzPyuHt7dpoqB4AaABAg</td>\n",
       "      <td>Yes</td>\n",
       "      <td>Bed Intruder</td>\n",
       "      <td>NaT</td>\n",
       "      <td>NaN</td>\n",
       "      <td>...</td>\n",
       "      <td>[]</td>\n",
       "      <td>[question_find, rapist_lincoln, park]</td>\n",
       "      <td>0.316581</td>\n",
       "      <td>0.000058</td>\n",
       "      <td>0.002366</td>\n",
       "      <td>0.006098</td>\n",
       "      <td>0.060627</td>\n",
       "      <td>0.05557</td>\n",
       "      <td>0.000753</td>\n",
       "      <td>None</td>\n",
       "    </tr>\n",
       "  </tbody>\n",
       "</table>\n",
       "<p>5 rows × 30 columns</p>\n",
       "</div>"
      ],
      "text/plain": [
       "           name                                            comment  \\\n",
       "0     schmoyoho  Stream the track! https://open.spotify.com/alb...   \n",
       "1       j • d i          youtube bros tho 😸🤍🎼👏🏻👏🏻👏🏻👏🏻👏🏻👏🏻👏🏻👏🏻  lol   \n",
       "2  Lonn Roberts                 this songs been in my head all day   \n",
       "3        Weapon                           Peak internet glory days   \n",
       "4           sbi  So my question. Did they find the rapist is Li...   \n",
       "\n",
       "           published_at  likes Reply Count                   parent_id  \\\n",
       "0  2018-07-12T18:42:05Z  13998         189  UgywoWu8TaqkOzGi8HF4AaABAg   \n",
       "1  2022-05-15T14:29:59Z      0           0  UgyfeNHiP8lcSxAr2qB4AaABAg   \n",
       "2  2022-05-15T03:42:37Z      0           0  UgxHvi5Eu_iPCzenYkN4AaABAg   \n",
       "3  2022-05-14T19:55:01Z      1           0  UgwzacFLCUiYgSpm2554AaABAg   \n",
       "4  2022-05-14T16:47:53Z      0           0  UgxxcUMzPyuHt7dpoqB4AaABAg   \n",
       "\n",
       "  is_parent    video_link date  reply_count  ... Verb_noun_phrases  \\\n",
       "0       Yes  Bed Intruder  NaT          NaN  ...                []   \n",
       "1       Yes  Bed Intruder  NaT          NaN  ...                []   \n",
       "2       Yes  Bed Intruder  NaT          NaN  ...                []   \n",
       "3       Yes  Bed Intruder  NaT          NaN  ...                []   \n",
       "4       Yes  Bed Intruder  NaT          NaN  ...                []   \n",
       "\n",
       "                                        lemmasNgrams  toxicity  \\\n",
       "0  [stream, track, httpsopen.spotify.comalbum6vw3...  0.001302   \n",
       "1                           [youtube, bro, tho, lol]     0.002   \n",
       "2                                   [song, head_day]  0.001683   \n",
       "3                         [peak_internet, glory_day]  0.001045   \n",
       "4              [question_find, rapist_lincoln, park]  0.316581   \n",
       "\n",
       "  severe_toxicity   obscene identity_attack    insult sexual_explicit  \\\n",
       "0        0.000004  0.000187        0.000187  0.000302        0.000081   \n",
       "1        0.000002  0.000095        0.000172  0.000422        0.000031   \n",
       "2        0.000003  0.000101        0.000103  0.000286        0.000077   \n",
       "3        0.000002  0.000038        0.000149  0.000195        0.000017   \n",
       "4        0.000058  0.002366        0.006098  0.060627         0.05557   \n",
       "\n",
       "     threat toxicity_check  \n",
       "0  0.000028           None  \n",
       "1  0.000037           None  \n",
       "2  0.000057           None  \n",
       "3  0.000035           None  \n",
       "4  0.000753           None  \n",
       "\n",
       "[5 rows x 30 columns]"
      ]
     },
     "execution_count": 12,
     "metadata": {},
     "output_type": "execute_result"
    }
   ],
   "source": [
    "final_df.head()"
   ]
  },
  {
   "cell_type": "markdown",
   "metadata": {
    "pycharm": {
     "name": "#%% md\n"
    }
   },
   "source": [
    "### Emotion Output"
   ]
  },
  {
   "cell_type": "code",
   "execution_count": 8,
   "metadata": {
    "collapsed": false,
    "pycharm": {
     "name": "#%%\n"
    }
   },
   "outputs": [],
   "source": [
    "df1 = pd.read_pickle('Bed_Intruder_Comments_Key_Emotions.pkl')\n",
    "df2 = pd.read_pickle('Sweet_Brown_Comments_Key_Emotions.pkl')\n",
    "df3 = pd.read_pickle('Annoying_Orange_Comments_Key_Emotions.pkl')\n",
    "df4 = pd.read_pickle('Justice_League_Comments_Key_Emotions.pkl')\n",
    "df5 = pd.read_pickle('World_Star_Comments_Key_Emotions.pkl')"
   ]
  },
  {
   "cell_type": "code",
   "execution_count": 35,
   "metadata": {
    "collapsed": true,
    "pycharm": {
     "name": "#%%\n"
    }
   },
   "outputs": [],
   "source": [
    "all_emotions = pd.concat([df1,df2,df3,df4,df5])\n",
    "all_emotions.reset_index(drop=True, inplace =True)"
   ]
  },
  {
   "cell_type": "code",
   "execution_count": 10,
   "metadata": {
    "collapsed": false,
    "pycharm": {
     "name": "#%%\n"
    }
   },
   "outputs": [
    {
     "name": "stdout",
     "output_type": "stream",
     "text": [
      "236564\n"
     ]
    }
   ],
   "source": [
    "print(len(all_emotions))"
   ]
  },
  {
   "cell_type": "code",
   "execution_count": 11,
   "metadata": {
    "collapsed": false,
    "pycharm": {
     "name": "#%%\n"
    }
   },
   "outputs": [
    {
     "data": {
      "text/html": [
       "<div>\n",
       "<style scoped>\n",
       "    .dataframe tbody tr th:only-of-type {\n",
       "        vertical-align: middle;\n",
       "    }\n",
       "\n",
       "    .dataframe tbody tr th {\n",
       "        vertical-align: top;\n",
       "    }\n",
       "\n",
       "    .dataframe thead th {\n",
       "        text-align: right;\n",
       "    }\n",
       "</style>\n",
       "<table border=\"1\" class=\"dataframe\">\n",
       "  <thead>\n",
       "    <tr style=\"text-align: right;\">\n",
       "      <th></th>\n",
       "      <th>name</th>\n",
       "      <th>comment</th>\n",
       "      <th>published_at</th>\n",
       "      <th>likes</th>\n",
       "      <th>Reply Count</th>\n",
       "      <th>parent_id</th>\n",
       "      <th>is_parent</th>\n",
       "      <th>video_link</th>\n",
       "      <th>date</th>\n",
       "      <th>reply_count</th>\n",
       "      <th>...</th>\n",
       "      <th>adj_noun_phrases</th>\n",
       "      <th>Verb_noun_phrases</th>\n",
       "      <th>lemmasNgrams</th>\n",
       "      <th>anger</th>\n",
       "      <th>disgust</th>\n",
       "      <th>fear</th>\n",
       "      <th>joy</th>\n",
       "      <th>neutral</th>\n",
       "      <th>sadness</th>\n",
       "      <th>surprise</th>\n",
       "    </tr>\n",
       "  </thead>\n",
       "  <tbody>\n",
       "    <tr>\n",
       "      <th>0</th>\n",
       "      <td>schmoyoho</td>\n",
       "      <td>Stream the track! https://open.spotify.com/alb...</td>\n",
       "      <td>2018-07-12T18:42:05Z</td>\n",
       "      <td>13998</td>\n",
       "      <td>189</td>\n",
       "      <td>UgywoWu8TaqkOzGi8HF4AaABAg</td>\n",
       "      <td>Yes</td>\n",
       "      <td>Bed Intruder</td>\n",
       "      <td>NaT</td>\n",
       "      <td>NaN</td>\n",
       "      <td>...</td>\n",
       "      <td>[great_gift]</td>\n",
       "      <td>[]</td>\n",
       "      <td>[stream, track, httpsopen.spotify.comalbum6vw3...</td>\n",
       "      <td>0.003764</td>\n",
       "      <td>0.000797</td>\n",
       "      <td>0.001486</td>\n",
       "      <td>0.248207</td>\n",
       "      <td>0.447392</td>\n",
       "      <td>0.02321</td>\n",
       "      <td>0.275145</td>\n",
       "    </tr>\n",
       "    <tr>\n",
       "      <th>1</th>\n",
       "      <td>j • d i</td>\n",
       "      <td>youtube bros tho 😸🤍🎼👏🏻👏🏻👏🏻👏🏻👏🏻👏🏻👏🏻👏🏻  lol</td>\n",
       "      <td>2022-05-15T14:29:59Z</td>\n",
       "      <td>0</td>\n",
       "      <td>0</td>\n",
       "      <td>UgyfeNHiP8lcSxAr2qB4AaABAg</td>\n",
       "      <td>Yes</td>\n",
       "      <td>Bed Intruder</td>\n",
       "      <td>NaT</td>\n",
       "      <td>NaN</td>\n",
       "      <td>...</td>\n",
       "      <td>[]</td>\n",
       "      <td>[]</td>\n",
       "      <td>[youtube, bro, tho, lol]</td>\n",
       "      <td>0.008072</td>\n",
       "      <td>0.002983</td>\n",
       "      <td>0.002129</td>\n",
       "      <td>0.468036</td>\n",
       "      <td>0.229449</td>\n",
       "      <td>0.119479</td>\n",
       "      <td>0.169852</td>\n",
       "    </tr>\n",
       "    <tr>\n",
       "      <th>2</th>\n",
       "      <td>Lonn Roberts</td>\n",
       "      <td>this songs been in my head all day</td>\n",
       "      <td>2022-05-15T03:42:37Z</td>\n",
       "      <td>0</td>\n",
       "      <td>0</td>\n",
       "      <td>UgxHvi5Eu_iPCzenYkN4AaABAg</td>\n",
       "      <td>Yes</td>\n",
       "      <td>Bed Intruder</td>\n",
       "      <td>NaT</td>\n",
       "      <td>NaN</td>\n",
       "      <td>...</td>\n",
       "      <td>[]</td>\n",
       "      <td>[]</td>\n",
       "      <td>[song, head_day]</td>\n",
       "      <td>0.057341</td>\n",
       "      <td>0.02413</td>\n",
       "      <td>0.099165</td>\n",
       "      <td>0.025372</td>\n",
       "      <td>0.596749</td>\n",
       "      <td>0.038692</td>\n",
       "      <td>0.158551</td>\n",
       "    </tr>\n",
       "    <tr>\n",
       "      <th>3</th>\n",
       "      <td>Weapon</td>\n",
       "      <td>Peak internet glory days</td>\n",
       "      <td>2022-05-14T19:55:01Z</td>\n",
       "      <td>1</td>\n",
       "      <td>0</td>\n",
       "      <td>UgwzacFLCUiYgSpm2554AaABAg</td>\n",
       "      <td>Yes</td>\n",
       "      <td>Bed Intruder</td>\n",
       "      <td>NaT</td>\n",
       "      <td>NaN</td>\n",
       "      <td>...</td>\n",
       "      <td>[]</td>\n",
       "      <td>[]</td>\n",
       "      <td>[peak_internet, glory_day]</td>\n",
       "      <td>0.023141</td>\n",
       "      <td>0.003943</td>\n",
       "      <td>0.020022</td>\n",
       "      <td>0.247856</td>\n",
       "      <td>0.447814</td>\n",
       "      <td>0.032947</td>\n",
       "      <td>0.224278</td>\n",
       "    </tr>\n",
       "    <tr>\n",
       "      <th>4</th>\n",
       "      <td>sbi</td>\n",
       "      <td>So my question. Did they find the rapist is Li...</td>\n",
       "      <td>2022-05-14T16:47:53Z</td>\n",
       "      <td>0</td>\n",
       "      <td>0</td>\n",
       "      <td>UgxxcUMzPyuHt7dpoqB4AaABAg</td>\n",
       "      <td>Yes</td>\n",
       "      <td>Bed Intruder</td>\n",
       "      <td>NaT</td>\n",
       "      <td>NaN</td>\n",
       "      <td>...</td>\n",
       "      <td>[]</td>\n",
       "      <td>[]</td>\n",
       "      <td>[question_find, rapist_lincoln, park]</td>\n",
       "      <td>0.02119</td>\n",
       "      <td>0.008184</td>\n",
       "      <td>0.036186</td>\n",
       "      <td>0.002045</td>\n",
       "      <td>0.591125</td>\n",
       "      <td>0.035642</td>\n",
       "      <td>0.305628</td>\n",
       "    </tr>\n",
       "  </tbody>\n",
       "</table>\n",
       "<p>5 rows × 29 columns</p>\n",
       "</div>"
      ],
      "text/plain": [
       "           name                                            comment  \\\n",
       "0     schmoyoho  Stream the track! https://open.spotify.com/alb...   \n",
       "1       j • d i          youtube bros tho 😸🤍🎼👏🏻👏🏻👏🏻👏🏻👏🏻👏🏻👏🏻👏🏻  lol   \n",
       "2  Lonn Roberts                 this songs been in my head all day   \n",
       "3        Weapon                           Peak internet glory days   \n",
       "4           sbi  So my question. Did they find the rapist is Li...   \n",
       "\n",
       "           published_at  likes Reply Count                   parent_id  \\\n",
       "0  2018-07-12T18:42:05Z  13998         189  UgywoWu8TaqkOzGi8HF4AaABAg   \n",
       "1  2022-05-15T14:29:59Z      0           0  UgyfeNHiP8lcSxAr2qB4AaABAg   \n",
       "2  2022-05-15T03:42:37Z      0           0  UgxHvi5Eu_iPCzenYkN4AaABAg   \n",
       "3  2022-05-14T19:55:01Z      1           0  UgwzacFLCUiYgSpm2554AaABAg   \n",
       "4  2022-05-14T16:47:53Z      0           0  UgxxcUMzPyuHt7dpoqB4AaABAg   \n",
       "\n",
       "  is_parent    video_link date  reply_count  ... adj_noun_phrases  \\\n",
       "0       Yes  Bed Intruder  NaT          NaN  ...     [great_gift]   \n",
       "1       Yes  Bed Intruder  NaT          NaN  ...               []   \n",
       "2       Yes  Bed Intruder  NaT          NaN  ...               []   \n",
       "3       Yes  Bed Intruder  NaT          NaN  ...               []   \n",
       "4       Yes  Bed Intruder  NaT          NaN  ...               []   \n",
       "\n",
       "  Verb_noun_phrases                                       lemmasNgrams  \\\n",
       "0                []  [stream, track, httpsopen.spotify.comalbum6vw3...   \n",
       "1                []                           [youtube, bro, tho, lol]   \n",
       "2                []                                   [song, head_day]   \n",
       "3                []                         [peak_internet, glory_day]   \n",
       "4                []              [question_find, rapist_lincoln, park]   \n",
       "\n",
       "      anger   disgust      fear       joy   neutral   sadness  surprise  \n",
       "0  0.003764  0.000797  0.001486  0.248207  0.447392   0.02321  0.275145  \n",
       "1  0.008072  0.002983  0.002129  0.468036  0.229449  0.119479  0.169852  \n",
       "2  0.057341   0.02413  0.099165  0.025372  0.596749  0.038692  0.158551  \n",
       "3  0.023141  0.003943  0.020022  0.247856  0.447814  0.032947  0.224278  \n",
       "4   0.02119  0.008184  0.036186  0.002045  0.591125  0.035642  0.305628  \n",
       "\n",
       "[5 rows x 29 columns]"
      ]
     },
     "execution_count": 11,
     "metadata": {},
     "output_type": "execute_result"
    }
   ],
   "source": [
    "all_emotions.head()"
   ]
  },
  {
   "cell_type": "markdown",
   "metadata": {
    "pycharm": {
     "name": "#%% md\n"
    }
   },
   "source": [
    "### Merge to Check if all comments are same row by row"
   ]
  },
  {
   "cell_type": "code",
   "execution_count": 36,
   "metadata": {
    "collapsed": false,
    "pycharm": {
     "name": "#%%\n"
    }
   },
   "outputs": [],
   "source": [
    "all_combined= final_df.join([all_emotions])"
   ]
  },
  {
   "cell_type": "code",
   "execution_count": 51,
   "metadata": {
    "collapsed": false,
    "pycharm": {
     "name": "#%%\n"
    }
   },
   "outputs": [],
   "source": [
    "final_df['anger'] = None\n",
    "final_df['disgust'] = None\n",
    "final_df['fear'] = None\n",
    "final_df['joy'] = None\n",
    "final_df['neutral'] = None\n",
    "final_df['sadness'] = None\n",
    "final_df['surprise'] = None\n",
    "final_df['comments_new'] = None\n",
    "\n",
    "for index, row in final_df.iterrows():\n",
    "    if final_df.loc[index,'comment'] != all_emotions.loc[index,'comment']:\n",
    "        print(index)\n",
    "        break\n",
    "    else:\n",
    "        final_df.loc[index,'anger']= all_emotions.loc[index,'anger']\n",
    "        final_df.loc[index,'disgust']= all_emotions.loc[index,'disgust']\n",
    "        final_df.loc[index,'fear']=all_emotions.loc[index,'fear']\n",
    "        final_df.loc[index,'joy']=all_emotions.loc[index,'joy']\n",
    "        final_df.loc[index,'neutral']=all_emotions.loc[index,'neutral']\n",
    "        final_df.loc[index,'sadness']=all_emotions.loc[index,'sadness']\n",
    "        final_df.loc[index,'surprise']= all_emotions.loc[index,'surprise']"
   ]
  },
  {
   "cell_type": "code",
   "execution_count": 53,
   "metadata": {
    "collapsed": true,
    "pycharm": {
     "name": "#%%\n"
    }
   },
   "outputs": [],
   "source": [
    "final_df.to_pickle('07212022_All_Processed_Comments.pkl') # Flows into Tableau report"
   ]
  }
 ],
 "metadata": {
  "kernelspec": {
   "display_name": "abhipy",
   "language": "python",
   "name": "abhipy"
  },
  "language_info": {
   "codemirror_mode": {
    "name": "ipython",
    "version": 3
   },
   "file_extension": ".py",
   "mimetype": "text/x-python",
   "name": "python",
   "nbconvert_exporter": "python",
   "pygments_lexer": "ipython3",
   "version": "3.9.7"
  }
 },
 "nbformat": 4,
 "nbformat_minor": 2
}