{
 "cells": [
  {
   "cell_type": "code",
   "execution_count": 14,
   "metadata": {
    "collapsed": true,
    "pycharm": {
     "name": "#%%\n"
    }
   },
   "outputs": [],
   "source": [
    "import pandas as pd\n",
    "import numpy as np\n",
    "import os\n",
    "from collections import Counter"
   ]
  },
  {
   "cell_type": "code",
   "execution_count": 8,
   "outputs": [],
   "source": [
    "df = pd.read_pickle('../output/06062022_clean_data.pkl')"
   ],
   "metadata": {
    "collapsed": false,
    "pycharm": {
     "name": "#%%\n"
    }
   }
  },
  {
   "cell_type": "code",
   "execution_count": 9,
   "outputs": [
    {
     "data": {
      "text/plain": "                 name                                            comment  \\\n0           schmoyoho  Stream the track! https://open.spotify.com/alb...   \n1             Roweman              I wonder if they caught that intruder   \n2        xxCordellMxx    Why did I say this out loud when I was younger?   \n3  Nicholas DiGaetano                       The rapist was never caught?   \n4         Tango Bodhi                           This will never get old.   \n\n           published_at  likes Reply Count                   parent_id  \\\n0  2018-07-12T18:42:05Z  13950         188  UgywoWu8TaqkOzGi8HF4AaABAg   \n1  2022-04-23T00:46:20Z      1           0  UgyUDUe6xUHoX5ziaql4AaABAg   \n2  2022-04-21T20:27:23Z      0           0  Ugx9p0We_6_2c5etHQZ4AaABAg   \n3  2022-04-21T04:17:40Z      0           0  Ugz-Y1LK6QpBOVv2WI54AaABAg   \n4  2022-04-20T18:27:49Z      0           0  UgyHtE_H7Y5OOda5gfZ4AaABAg   \n\n  is_parent                                      comment_lower  \\\n0       Yes  stream the track! https://open.spotify.com/alb...   \n1       Yes              i wonder if they caught that intruder   \n2       Yes    why did i say this out loud when i was younger?   \n3       Yes                       the rapist was never caught?   \n4       Yes                           this will never get old.   \n\n                                      clean_comments  impurity  year month  \\\n0  stream the track!  (proceeds to dodsons gregor...       0.0  2018    07   \n1              i wonder if they caught that intruder       0.0  2022    04   \n2    why did i say this out loud when i was younger?       0.0  2022    04   \n3                       the rapist was never caught?       0.0  2022    04   \n4                           this will never get old.       0.0  2022    04   \n\n                                              lemmas       adjs_verbs  \\\n0  [stream, track, proceed, dodson, gregorys, ant...  [stream, great]   \n1                          [wonder, catch, intruder]  [wonder, catch]   \n2                                      [loud, young]          [young]   \n3                                    [rapist, catch]          [catch]   \n4                                              [old]            [old]   \n\n                                               nouns    noun_phrases  \\\n0  [track, proceed, dodson, antoine, cameo, gift,...  [bed_intruder]   \n1                                         [intruder]              []   \n2                                                 []              []   \n3                                           [rapist]              []   \n4                                                 []              []   \n\n  adj_noun_phrases Verb_noun_phrases  \\\n0     [great_gift]                []   \n1               []                []   \n2               []                []   \n3               []                []   \n4               []                []   \n\n                                        lemmasNgrams  \n0  [stream, track, proceed_dodson, gregorys, anto...  \n1                           [wonder_catch, intruder]  \n2                                      [loud, young]  \n3                                    [rapist, catch]  \n4                                              [old]  ",
      "text/html": "<div>\n<style scoped>\n    .dataframe tbody tr th:only-of-type {\n        vertical-align: middle;\n    }\n\n    .dataframe tbody tr th {\n        vertical-align: top;\n    }\n\n    .dataframe thead th {\n        text-align: right;\n    }\n</style>\n<table border=\"1\" class=\"dataframe\">\n  <thead>\n    <tr style=\"text-align: right;\">\n      <th></th>\n      <th>name</th>\n      <th>comment</th>\n      <th>published_at</th>\n      <th>likes</th>\n      <th>Reply Count</th>\n      <th>parent_id</th>\n      <th>is_parent</th>\n      <th>comment_lower</th>\n      <th>clean_comments</th>\n      <th>impurity</th>\n      <th>year</th>\n      <th>month</th>\n      <th>lemmas</th>\n      <th>adjs_verbs</th>\n      <th>nouns</th>\n      <th>noun_phrases</th>\n      <th>adj_noun_phrases</th>\n      <th>Verb_noun_phrases</th>\n      <th>lemmasNgrams</th>\n    </tr>\n  </thead>\n  <tbody>\n    <tr>\n      <th>0</th>\n      <td>schmoyoho</td>\n      <td>Stream the track! https://open.spotify.com/alb...</td>\n      <td>2018-07-12T18:42:05Z</td>\n      <td>13950</td>\n      <td>188</td>\n      <td>UgywoWu8TaqkOzGi8HF4AaABAg</td>\n      <td>Yes</td>\n      <td>stream the track! https://open.spotify.com/alb...</td>\n      <td>stream the track!  (proceeds to dodsons gregor...</td>\n      <td>0.0</td>\n      <td>2018</td>\n      <td>07</td>\n      <td>[stream, track, proceed, dodson, gregorys, ant...</td>\n      <td>[stream, great]</td>\n      <td>[track, proceed, dodson, antoine, cameo, gift,...</td>\n      <td>[bed_intruder]</td>\n      <td>[great_gift]</td>\n      <td>[]</td>\n      <td>[stream, track, proceed_dodson, gregorys, anto...</td>\n    </tr>\n    <tr>\n      <th>1</th>\n      <td>Roweman</td>\n      <td>I wonder if they caught that intruder</td>\n      <td>2022-04-23T00:46:20Z</td>\n      <td>1</td>\n      <td>0</td>\n      <td>UgyUDUe6xUHoX5ziaql4AaABAg</td>\n      <td>Yes</td>\n      <td>i wonder if they caught that intruder</td>\n      <td>i wonder if they caught that intruder</td>\n      <td>0.0</td>\n      <td>2022</td>\n      <td>04</td>\n      <td>[wonder, catch, intruder]</td>\n      <td>[wonder, catch]</td>\n      <td>[intruder]</td>\n      <td>[]</td>\n      <td>[]</td>\n      <td>[]</td>\n      <td>[wonder_catch, intruder]</td>\n    </tr>\n    <tr>\n      <th>2</th>\n      <td>xxCordellMxx</td>\n      <td>Why did I say this out loud when I was younger?</td>\n      <td>2022-04-21T20:27:23Z</td>\n      <td>0</td>\n      <td>0</td>\n      <td>Ugx9p0We_6_2c5etHQZ4AaABAg</td>\n      <td>Yes</td>\n      <td>why did i say this out loud when i was younger?</td>\n      <td>why did i say this out loud when i was younger?</td>\n      <td>0.0</td>\n      <td>2022</td>\n      <td>04</td>\n      <td>[loud, young]</td>\n      <td>[young]</td>\n      <td>[]</td>\n      <td>[]</td>\n      <td>[]</td>\n      <td>[]</td>\n      <td>[loud, young]</td>\n    </tr>\n    <tr>\n      <th>3</th>\n      <td>Nicholas DiGaetano</td>\n      <td>The rapist was never caught?</td>\n      <td>2022-04-21T04:17:40Z</td>\n      <td>0</td>\n      <td>0</td>\n      <td>Ugz-Y1LK6QpBOVv2WI54AaABAg</td>\n      <td>Yes</td>\n      <td>the rapist was never caught?</td>\n      <td>the rapist was never caught?</td>\n      <td>0.0</td>\n      <td>2022</td>\n      <td>04</td>\n      <td>[rapist, catch]</td>\n      <td>[catch]</td>\n      <td>[rapist]</td>\n      <td>[]</td>\n      <td>[]</td>\n      <td>[]</td>\n      <td>[rapist, catch]</td>\n    </tr>\n    <tr>\n      <th>4</th>\n      <td>Tango Bodhi</td>\n      <td>This will never get old.</td>\n      <td>2022-04-20T18:27:49Z</td>\n      <td>0</td>\n      <td>0</td>\n      <td>UgyHtE_H7Y5OOda5gfZ4AaABAg</td>\n      <td>Yes</td>\n      <td>this will never get old.</td>\n      <td>this will never get old.</td>\n      <td>0.0</td>\n      <td>2022</td>\n      <td>04</td>\n      <td>[old]</td>\n      <td>[old]</td>\n      <td>[]</td>\n      <td>[]</td>\n      <td>[]</td>\n      <td>[]</td>\n      <td>[old]</td>\n    </tr>\n  </tbody>\n</table>\n</div>"
     },
     "execution_count": 9,
     "metadata": {},
     "output_type": "execute_result"
    }
   ],
   "source": [
    "df.head()"
   ],
   "metadata": {
    "collapsed": false,
    "pycharm": {
     "name": "#%%\n"
    }
   }
  },
  {
   "cell_type": "code",
   "execution_count": 12,
   "outputs": [],
   "source": [
    "def compute_idf(df, column, preprocess=None, min_df=2):\n",
    "    def update(doc):\n",
    "        tokens = doc if preprocess is None else preprocess(doc)\n",
    "        counter.update(set(tokens))\n",
    "\n",
    "    # count tokens\n",
    "    counter = Counter()\n",
    "    df[column].map(update)\n",
    "    # create DataFrame and compute idf\n",
    "    idf_df = pd.DataFrame.from_dict(counter, orient='index', columns=['df'])\n",
    "    idf_df = idf_df.query('df >= @min_df')\n",
    "    idf_df['idf'] = np.log(len(df) / idf_df['df']) + 0.1\n",
    "    idf_df.index.name = 'token'\n",
    "    return idf_df"
   ],
   "metadata": {
    "collapsed": false,
    "pycharm": {
     "name": "#%%\n"
    }
   }
  },
  {
   "cell_type": "code",
   "execution_count": 15,
   "outputs": [
    {
     "name": "stderr",
     "output_type": "stream",
     "text": [
      "/var/folders/8r/h6d_m6c551n1g87q75lclwz40000gn/T/ipykernel_3776/1424019154.py:12: SettingWithCopyWarning: \n",
      "A value is trying to be set on a copy of a slice from a DataFrame.\n",
      "Try using .loc[row_indexer,col_indexer] = value instead\n",
      "\n",
      "See the caveats in the documentation: https://pandas.pydata.org/pandas-docs/stable/user_guide/indexing.html#returning-a-view-versus-a-copy\n",
      "  idf_df['idf'] = np.log(len(df) / idf_df['df']) + 0.1\n"
     ]
    }
   ],
   "source": [
    "df_all_years = []\n",
    "df['month'] = df['published_at'].apply(lambda x : x[5:7])\n",
    "for year in df.year.unique():\n",
    "    for month in df.month.unique():\n",
    "        df_year = df[(df['year']==year) & (df['month']==month)]\n",
    "        freq_df = compute_idf(df_year, column= 'lemmasNgrams')\n",
    "        freq_df['year'] = year\n",
    "        freq_df['month']= month\n",
    "        freq_df['comment_count']= len(df_year)\n",
    "\n",
    "        freq_df = freq_df.reset_index(drop=False)\n",
    "\n",
    "        df_all_years.append(freq_df)\n"
   ],
   "metadata": {
    "collapsed": false,
    "pycharm": {
     "name": "#%%\n"
    }
   }
  },
  {
   "cell_type": "code",
   "execution_count": 16,
   "outputs": [],
   "source": [
    "df_all_years = pd.concat(df_all_years)"
   ],
   "metadata": {
    "collapsed": false,
    "pycharm": {
     "name": "#%%\n"
    }
   }
  },
  {
   "cell_type": "code",
   "execution_count": 17,
   "outputs": [
    {
     "data": {
      "text/plain": "          token df       idf  year month  comment_count\n0       antoine  3  4.791348  2018    07            327\n1  bed_intruder  3  4.791348  2018    07            327\n2         great  6  4.098201  2018    07            327\n3           mom  2  5.196813  2018    07            327\n4      actually  4  4.503666  2018    07            327",
      "text/html": "<div>\n<style scoped>\n    .dataframe tbody tr th:only-of-type {\n        vertical-align: middle;\n    }\n\n    .dataframe tbody tr th {\n        vertical-align: top;\n    }\n\n    .dataframe thead th {\n        text-align: right;\n    }\n</style>\n<table border=\"1\" class=\"dataframe\">\n  <thead>\n    <tr style=\"text-align: right;\">\n      <th></th>\n      <th>token</th>\n      <th>df</th>\n      <th>idf</th>\n      <th>year</th>\n      <th>month</th>\n      <th>comment_count</th>\n    </tr>\n  </thead>\n  <tbody>\n    <tr>\n      <th>0</th>\n      <td>antoine</td>\n      <td>3</td>\n      <td>4.791348</td>\n      <td>2018</td>\n      <td>07</td>\n      <td>327</td>\n    </tr>\n    <tr>\n      <th>1</th>\n      <td>bed_intruder</td>\n      <td>3</td>\n      <td>4.791348</td>\n      <td>2018</td>\n      <td>07</td>\n      <td>327</td>\n    </tr>\n    <tr>\n      <th>2</th>\n      <td>great</td>\n      <td>6</td>\n      <td>4.098201</td>\n      <td>2018</td>\n      <td>07</td>\n      <td>327</td>\n    </tr>\n    <tr>\n      <th>3</th>\n      <td>mom</td>\n      <td>2</td>\n      <td>5.196813</td>\n      <td>2018</td>\n      <td>07</td>\n      <td>327</td>\n    </tr>\n    <tr>\n      <th>4</th>\n      <td>actually</td>\n      <td>4</td>\n      <td>4.503666</td>\n      <td>2018</td>\n      <td>07</td>\n      <td>327</td>\n    </tr>\n  </tbody>\n</table>\n</div>"
     },
     "execution_count": 17,
     "metadata": {},
     "output_type": "execute_result"
    }
   ],
   "source": [
    "df_all_years.head()"
   ],
   "metadata": {
    "collapsed": false,
    "pycharm": {
     "name": "#%%\n"
    }
   }
  },
  {
   "cell_type": "code",
   "execution_count": 18,
   "outputs": [],
   "source": [
    "df_all_years.to_csv(os.path.join('../output/', '06072022_ngrams_by_years.csv')) # Output for Tableau Reports"
   ],
   "metadata": {
    "collapsed": false,
    "pycharm": {
     "name": "#%%\n"
    }
   }
  }
 ],
 "metadata": {
  "kernelspec": {
   "display_name": "Python 3",
   "language": "python",
   "name": "python3"
  },
  "language_info": {
   "codemirror_mode": {
    "name": "ipython",
    "version": 2
   },
   "file_extension": ".py",
   "mimetype": "text/x-python",
   "name": "python",
   "nbconvert_exporter": "python",
   "pygments_lexer": "ipython2",
   "version": "2.7.6"
  }
 },
 "nbformat": 4,
 "nbformat_minor": 0
}