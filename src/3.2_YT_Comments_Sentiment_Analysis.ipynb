{
 "cells": [
  {
   "cell_type": "code",
   "execution_count": 1,
   "metadata": {
    "collapsed": true,
    "pycharm": {
     "name": "#%%\n"
    }
   },
   "outputs": [
    {
     "name": "stdout",
     "output_type": "stream",
     "text": [
      "Collecting vaderSentiment\r\n",
      "  Downloading vaderSentiment-3.3.2-py2.py3-none-any.whl (125 kB)\r\n",
      "\u001B[K     |████████████████████████████████| 125 kB 2.5 MB/s eta 0:00:01\r\n",
      "\u001B[?25hRequirement already satisfied: requests in /Users/abhinavbajpai/opt/anaconda3/lib/python3.9/site-packages (from vaderSentiment) (2.27.1)\r\n",
      "Requirement already satisfied: idna<4,>=2.5 in /Users/abhinavbajpai/opt/anaconda3/lib/python3.9/site-packages (from requests->vaderSentiment) (3.3)\r\n",
      "Requirement already satisfied: charset-normalizer~=2.0.0 in /Users/abhinavbajpai/opt/anaconda3/lib/python3.9/site-packages (from requests->vaderSentiment) (2.0.4)\r\n",
      "Requirement already satisfied: urllib3<1.27,>=1.21.1 in /Users/abhinavbajpai/opt/anaconda3/lib/python3.9/site-packages (from requests->vaderSentiment) (1.26.9)\r\n",
      "Requirement already satisfied: certifi>=2017.4.17 in /Users/abhinavbajpai/opt/anaconda3/lib/python3.9/site-packages (from requests->vaderSentiment) (2021.10.8)\r\n",
      "Installing collected packages: vaderSentiment\r\n",
      "Successfully installed vaderSentiment-3.3.2\r\n"
     ]
    }
   ],
   "source": [
    "!pip install vaderSentiment"
   ]
  },
  {
   "cell_type": "code",
   "execution_count": 1,
   "outputs": [],
   "source": [
    "import pandas as pd\n",
    "import os\n",
    "import numpy as np\n",
    "from vaderSentiment.vaderSentiment import SentimentIntensityAnalyzer"
   ],
   "metadata": {
    "collapsed": false,
    "pycharm": {
     "name": "#%%\n"
    }
   }
  },
  {
   "cell_type": "code",
   "execution_count": 2,
   "outputs": [],
   "source": [
    "df = pd.read_excel('../output/07142022_clean_data.xlsx')"
   ],
   "metadata": {
    "collapsed": false,
    "pycharm": {
     "name": "#%%\n"
    }
   }
  },
  {
   "cell_type": "code",
   "execution_count": 3,
   "outputs": [
    {
     "data": {
      "text/plain": "           name                                            comment  \\\n0     schmoyoho  Stream the track! https://open.spotify.com/alb...   \n1       j • d i          youtube bros tho 😸🤍🎼👏🏻👏🏻👏🏻👏🏻👏🏻👏🏻👏🏻👏🏻  lol   \n2  Lonn Roberts                 this songs been in my head all day   \n3        Weapon                           Peak internet glory days   \n4           sbi  So my question. Did they find the rapist is Li...   \n\n           published_at    likes  Reply Count                   parent_id  \\\n0  2018-07-12T18:42:05Z  13998.0        189.0  UgywoWu8TaqkOzGi8HF4AaABAg   \n1  2022-05-15T14:29:59Z      0.0          0.0  UgyfeNHiP8lcSxAr2qB4AaABAg   \n2  2022-05-15T03:42:37Z      0.0          0.0  UgxHvi5Eu_iPCzenYkN4AaABAg   \n3  2022-05-14T19:55:01Z      1.0          0.0  UgwzacFLCUiYgSpm2554AaABAg   \n4  2022-05-14T16:47:53Z      0.0          0.0  UgxxcUMzPyuHt7dpoqB4AaABAg   \n\n  is_parent    video_link date  reply_count  ... impurity    year  month  \\\n0       Yes  Bed Intruder  NaT          NaN  ...        0  2018.0    7.0   \n1       Yes  Bed Intruder  NaT          NaN  ...        0  2022.0    5.0   \n2       Yes  Bed Intruder  NaT          NaN  ...        0  2022.0    5.0   \n3       Yes  Bed Intruder  NaT          NaN  ...        0  2022.0    5.0   \n4       Yes  Bed Intruder  NaT          NaN  ...        0  2022.0    5.0   \n\n                                              lemmas  \\\n0  ['stream', 'track', 'httpsopen.spotify.comalbu...   \n1                   ['youtube', 'bro', 'tho', 'lol']   \n2                            ['song', 'head', 'day']   \n3               ['peak', 'internet', 'glory', 'day']   \n4  ['question', 'find', 'rapist', 'lincoln', 'park']   \n\n                       adjs_verbs  \\\n0  ['stream', 'proceed', 'great']   \n1                              []   \n2                              []   \n3                              []   \n4                        ['find']   \n\n                                               nouns  \\\n0  ['track', 'httpsopen.spotify.comalbum6vw3oxeqe...   \n1                   ['youtube', 'bro', 'tho', 'lol']   \n2                            ['song', 'head', 'day']   \n3               ['peak', 'internet', 'glory', 'day']   \n4          ['question', 'rapist', 'lincoln', 'park']   \n\n                                        noun_phrases adj_noun_phrases  \\\n0  ['track_httpsopen.spotify.comalbum6vw3oxeqedqc...   ['great_gift']   \n1                                    ['youtube_bro']               []   \n2                                                 []               []   \n3  ['internet_glory', 'internet_glory_day', 'glor...               []   \n4                                                 []               []   \n\n  Verb_noun_phrases                                       lemmasNgrams  \n0                []  ['stream', 'track', 'httpsopen.spotify.comalbu...  \n1                []                   ['youtube', 'bro', 'tho', 'lol']  \n2                []                               ['song', 'head_day']  \n3                []                     ['peak_internet', 'glory_day']  \n4                []        ['question_find', 'rapist_lincoln', 'park']  \n\n[5 rows x 22 columns]",
      "text/html": "<div>\n<style scoped>\n    .dataframe tbody tr th:only-of-type {\n        vertical-align: middle;\n    }\n\n    .dataframe tbody tr th {\n        vertical-align: top;\n    }\n\n    .dataframe thead th {\n        text-align: right;\n    }\n</style>\n<table border=\"1\" class=\"dataframe\">\n  <thead>\n    <tr style=\"text-align: right;\">\n      <th></th>\n      <th>name</th>\n      <th>comment</th>\n      <th>published_at</th>\n      <th>likes</th>\n      <th>Reply Count</th>\n      <th>parent_id</th>\n      <th>is_parent</th>\n      <th>video_link</th>\n      <th>date</th>\n      <th>reply_count</th>\n      <th>...</th>\n      <th>impurity</th>\n      <th>year</th>\n      <th>month</th>\n      <th>lemmas</th>\n      <th>adjs_verbs</th>\n      <th>nouns</th>\n      <th>noun_phrases</th>\n      <th>adj_noun_phrases</th>\n      <th>Verb_noun_phrases</th>\n      <th>lemmasNgrams</th>\n    </tr>\n  </thead>\n  <tbody>\n    <tr>\n      <th>0</th>\n      <td>schmoyoho</td>\n      <td>Stream the track! https://open.spotify.com/alb...</td>\n      <td>2018-07-12T18:42:05Z</td>\n      <td>13998.0</td>\n      <td>189.0</td>\n      <td>UgywoWu8TaqkOzGi8HF4AaABAg</td>\n      <td>Yes</td>\n      <td>Bed Intruder</td>\n      <td>NaT</td>\n      <td>NaN</td>\n      <td>...</td>\n      <td>0</td>\n      <td>2018.0</td>\n      <td>7.0</td>\n      <td>['stream', 'track', 'httpsopen.spotify.comalbu...</td>\n      <td>['stream', 'proceed', 'great']</td>\n      <td>['track', 'httpsopen.spotify.comalbum6vw3oxeqe...</td>\n      <td>['track_httpsopen.spotify.comalbum6vw3oxeqedqc...</td>\n      <td>['great_gift']</td>\n      <td>[]</td>\n      <td>['stream', 'track', 'httpsopen.spotify.comalbu...</td>\n    </tr>\n    <tr>\n      <th>1</th>\n      <td>j • d i</td>\n      <td>youtube bros tho 😸🤍🎼👏🏻👏🏻👏🏻👏🏻👏🏻👏🏻👏🏻👏🏻  lol</td>\n      <td>2022-05-15T14:29:59Z</td>\n      <td>0.0</td>\n      <td>0.0</td>\n      <td>UgyfeNHiP8lcSxAr2qB4AaABAg</td>\n      <td>Yes</td>\n      <td>Bed Intruder</td>\n      <td>NaT</td>\n      <td>NaN</td>\n      <td>...</td>\n      <td>0</td>\n      <td>2022.0</td>\n      <td>5.0</td>\n      <td>['youtube', 'bro', 'tho', 'lol']</td>\n      <td>[]</td>\n      <td>['youtube', 'bro', 'tho', 'lol']</td>\n      <td>['youtube_bro']</td>\n      <td>[]</td>\n      <td>[]</td>\n      <td>['youtube', 'bro', 'tho', 'lol']</td>\n    </tr>\n    <tr>\n      <th>2</th>\n      <td>Lonn Roberts</td>\n      <td>this songs been in my head all day</td>\n      <td>2022-05-15T03:42:37Z</td>\n      <td>0.0</td>\n      <td>0.0</td>\n      <td>UgxHvi5Eu_iPCzenYkN4AaABAg</td>\n      <td>Yes</td>\n      <td>Bed Intruder</td>\n      <td>NaT</td>\n      <td>NaN</td>\n      <td>...</td>\n      <td>0</td>\n      <td>2022.0</td>\n      <td>5.0</td>\n      <td>['song', 'head', 'day']</td>\n      <td>[]</td>\n      <td>['song', 'head', 'day']</td>\n      <td>[]</td>\n      <td>[]</td>\n      <td>[]</td>\n      <td>['song', 'head_day']</td>\n    </tr>\n    <tr>\n      <th>3</th>\n      <td>Weapon</td>\n      <td>Peak internet glory days</td>\n      <td>2022-05-14T19:55:01Z</td>\n      <td>1.0</td>\n      <td>0.0</td>\n      <td>UgwzacFLCUiYgSpm2554AaABAg</td>\n      <td>Yes</td>\n      <td>Bed Intruder</td>\n      <td>NaT</td>\n      <td>NaN</td>\n      <td>...</td>\n      <td>0</td>\n      <td>2022.0</td>\n      <td>5.0</td>\n      <td>['peak', 'internet', 'glory', 'day']</td>\n      <td>[]</td>\n      <td>['peak', 'internet', 'glory', 'day']</td>\n      <td>['internet_glory', 'internet_glory_day', 'glor...</td>\n      <td>[]</td>\n      <td>[]</td>\n      <td>['peak_internet', 'glory_day']</td>\n    </tr>\n    <tr>\n      <th>4</th>\n      <td>sbi</td>\n      <td>So my question. Did they find the rapist is Li...</td>\n      <td>2022-05-14T16:47:53Z</td>\n      <td>0.0</td>\n      <td>0.0</td>\n      <td>UgxxcUMzPyuHt7dpoqB4AaABAg</td>\n      <td>Yes</td>\n      <td>Bed Intruder</td>\n      <td>NaT</td>\n      <td>NaN</td>\n      <td>...</td>\n      <td>0</td>\n      <td>2022.0</td>\n      <td>5.0</td>\n      <td>['question', 'find', 'rapist', 'lincoln', 'park']</td>\n      <td>['find']</td>\n      <td>['question', 'rapist', 'lincoln', 'park']</td>\n      <td>[]</td>\n      <td>[]</td>\n      <td>[]</td>\n      <td>['question_find', 'rapist_lincoln', 'park']</td>\n    </tr>\n  </tbody>\n</table>\n<p>5 rows × 22 columns</p>\n</div>"
     },
     "execution_count": 3,
     "metadata": {},
     "output_type": "execute_result"
    }
   ],
   "source": [
    "df.head()"
   ],
   "metadata": {
    "collapsed": false,
    "pycharm": {
     "name": "#%%\n"
    }
   }
  },
  {
   "cell_type": "code",
   "execution_count": 4,
   "outputs": [],
   "source": [
    "analyzer = SentimentIntensityAnalyzer()\n",
    "df['clean_comments'] = df['clean_comments'].map(str)\n",
    "df['sentiment'] = df['clean_comments'].apply(lambda x: analyzer.polarity_scores(x))\n",
    "df['compound'] = df['sentiment'].apply(lambda score_dict: score_dict['compound'])\n",
    "df['positive'] = df['sentiment'].apply(lambda score_dict: score_dict['pos'])\n",
    "df['negative'] = df['sentiment'].apply(lambda score_dict: score_dict['neg'])\n",
    "df['neutral'] = df['sentiment'].apply(lambda score_dict: score_dict['neu'])"
   ],
   "metadata": {
    "collapsed": false,
    "pycharm": {
     "name": "#%%\n"
    }
   }
  },
  {
   "cell_type": "code",
   "execution_count": 5,
   "outputs": [],
   "source": [
    "# Assigning labels (positive, neutral and negative sentiments)\n",
    "df.loc[df.compound > .5, 'sentiment_type'] = 'POSITIVE'\n",
    "df.loc[(df.compound >= -.5) & (df.compound <= .5), 'sentiment_type'] = 'NEUTRAL'\n",
    "df.loc[df.compound < -.5, 'sentiment_type'] = 'NEGATIVE'"
   ],
   "metadata": {
    "collapsed": false,
    "pycharm": {
     "name": "#%%\n"
    }
   }
  },
  {
   "cell_type": "code",
   "execution_count": 6,
   "outputs": [
    {
     "data": {
      "text/plain": "           name                                            comment  \\\n0     schmoyoho  Stream the track! https://open.spotify.com/alb...   \n1       j • d i          youtube bros tho 😸🤍🎼👏🏻👏🏻👏🏻👏🏻👏🏻👏🏻👏🏻👏🏻  lol   \n2  Lonn Roberts                 this songs been in my head all day   \n3        Weapon                           Peak internet glory days   \n4           sbi  So my question. Did they find the rapist is Li...   \n\n           published_at    likes  Reply Count                   parent_id  \\\n0  2018-07-12T18:42:05Z  13998.0        189.0  UgywoWu8TaqkOzGi8HF4AaABAg   \n1  2022-05-15T14:29:59Z      0.0          0.0  UgyfeNHiP8lcSxAr2qB4AaABAg   \n2  2022-05-15T03:42:37Z      0.0          0.0  UgxHvi5Eu_iPCzenYkN4AaABAg   \n3  2022-05-14T19:55:01Z      1.0          0.0  UgwzacFLCUiYgSpm2554AaABAg   \n4  2022-05-14T16:47:53Z      0.0          0.0  UgxxcUMzPyuHt7dpoqB4AaABAg   \n\n  is_parent    video_link date  reply_count  ...  \\\n0       Yes  Bed Intruder  NaT          NaN  ...   \n1       Yes  Bed Intruder  NaT          NaN  ...   \n2       Yes  Bed Intruder  NaT          NaN  ...   \n3       Yes  Bed Intruder  NaT          NaN  ...   \n4       Yes  Bed Intruder  NaT          NaN  ...   \n\n                                        noun_phrases adj_noun_phrases  \\\n0  ['track_httpsopen.spotify.comalbum6vw3oxeqedqc...   ['great_gift']   \n1                                    ['youtube_bro']               []   \n2                                                 []               []   \n3  ['internet_glory', 'internet_glory_day', 'glor...               []   \n4                                                 []               []   \n\n   Verb_noun_phrases                                       lemmasNgrams  \\\n0                 []  ['stream', 'track', 'httpsopen.spotify.comalbu...   \n1                 []                   ['youtube', 'bro', 'tho', 'lol']   \n2                 []                               ['song', 'head_day']   \n3                 []                     ['peak_internet', 'glory_day']   \n4                 []        ['question_find', 'rapist_lincoln', 'park']   \n\n                                           sentiment compound positive  \\\n0  {'neg': 0.0, 'neu': 0.772, 'pos': 0.228, 'comp...   0.7964    0.228   \n1  {'neg': 0.0, 'neu': 0.517, 'pos': 0.483, 'comp...   0.4215    0.483   \n2  {'neg': 0.0, 'neu': 1.0, 'pos': 0.0, 'compound...   0.0000    0.000   \n3  {'neg': 0.0, 'neu': 0.462, 'pos': 0.538, 'comp...   0.5423    0.538   \n4  {'neg': 0.329, 'neu': 0.671, 'pos': 0.0, 'comp...  -0.7096    0.000   \n\n  negative neutral sentiment_type  \n0    0.000   0.772       POSITIVE  \n1    0.000   0.517        NEUTRAL  \n2    0.000   1.000        NEUTRAL  \n3    0.000   0.462       POSITIVE  \n4    0.329   0.671       NEGATIVE  \n\n[5 rows x 28 columns]",
      "text/html": "<div>\n<style scoped>\n    .dataframe tbody tr th:only-of-type {\n        vertical-align: middle;\n    }\n\n    .dataframe tbody tr th {\n        vertical-align: top;\n    }\n\n    .dataframe thead th {\n        text-align: right;\n    }\n</style>\n<table border=\"1\" class=\"dataframe\">\n  <thead>\n    <tr style=\"text-align: right;\">\n      <th></th>\n      <th>name</th>\n      <th>comment</th>\n      <th>published_at</th>\n      <th>likes</th>\n      <th>Reply Count</th>\n      <th>parent_id</th>\n      <th>is_parent</th>\n      <th>video_link</th>\n      <th>date</th>\n      <th>reply_count</th>\n      <th>...</th>\n      <th>noun_phrases</th>\n      <th>adj_noun_phrases</th>\n      <th>Verb_noun_phrases</th>\n      <th>lemmasNgrams</th>\n      <th>sentiment</th>\n      <th>compound</th>\n      <th>positive</th>\n      <th>negative</th>\n      <th>neutral</th>\n      <th>sentiment_type</th>\n    </tr>\n  </thead>\n  <tbody>\n    <tr>\n      <th>0</th>\n      <td>schmoyoho</td>\n      <td>Stream the track! https://open.spotify.com/alb...</td>\n      <td>2018-07-12T18:42:05Z</td>\n      <td>13998.0</td>\n      <td>189.0</td>\n      <td>UgywoWu8TaqkOzGi8HF4AaABAg</td>\n      <td>Yes</td>\n      <td>Bed Intruder</td>\n      <td>NaT</td>\n      <td>NaN</td>\n      <td>...</td>\n      <td>['track_httpsopen.spotify.comalbum6vw3oxeqedqc...</td>\n      <td>['great_gift']</td>\n      <td>[]</td>\n      <td>['stream', 'track', 'httpsopen.spotify.comalbu...</td>\n      <td>{'neg': 0.0, 'neu': 0.772, 'pos': 0.228, 'comp...</td>\n      <td>0.7964</td>\n      <td>0.228</td>\n      <td>0.000</td>\n      <td>0.772</td>\n      <td>POSITIVE</td>\n    </tr>\n    <tr>\n      <th>1</th>\n      <td>j • d i</td>\n      <td>youtube bros tho 😸🤍🎼👏🏻👏🏻👏🏻👏🏻👏🏻👏🏻👏🏻👏🏻  lol</td>\n      <td>2022-05-15T14:29:59Z</td>\n      <td>0.0</td>\n      <td>0.0</td>\n      <td>UgyfeNHiP8lcSxAr2qB4AaABAg</td>\n      <td>Yes</td>\n      <td>Bed Intruder</td>\n      <td>NaT</td>\n      <td>NaN</td>\n      <td>...</td>\n      <td>['youtube_bro']</td>\n      <td>[]</td>\n      <td>[]</td>\n      <td>['youtube', 'bro', 'tho', 'lol']</td>\n      <td>{'neg': 0.0, 'neu': 0.517, 'pos': 0.483, 'comp...</td>\n      <td>0.4215</td>\n      <td>0.483</td>\n      <td>0.000</td>\n      <td>0.517</td>\n      <td>NEUTRAL</td>\n    </tr>\n    <tr>\n      <th>2</th>\n      <td>Lonn Roberts</td>\n      <td>this songs been in my head all day</td>\n      <td>2022-05-15T03:42:37Z</td>\n      <td>0.0</td>\n      <td>0.0</td>\n      <td>UgxHvi5Eu_iPCzenYkN4AaABAg</td>\n      <td>Yes</td>\n      <td>Bed Intruder</td>\n      <td>NaT</td>\n      <td>NaN</td>\n      <td>...</td>\n      <td>[]</td>\n      <td>[]</td>\n      <td>[]</td>\n      <td>['song', 'head_day']</td>\n      <td>{'neg': 0.0, 'neu': 1.0, 'pos': 0.0, 'compound...</td>\n      <td>0.0000</td>\n      <td>0.000</td>\n      <td>0.000</td>\n      <td>1.000</td>\n      <td>NEUTRAL</td>\n    </tr>\n    <tr>\n      <th>3</th>\n      <td>Weapon</td>\n      <td>Peak internet glory days</td>\n      <td>2022-05-14T19:55:01Z</td>\n      <td>1.0</td>\n      <td>0.0</td>\n      <td>UgwzacFLCUiYgSpm2554AaABAg</td>\n      <td>Yes</td>\n      <td>Bed Intruder</td>\n      <td>NaT</td>\n      <td>NaN</td>\n      <td>...</td>\n      <td>['internet_glory', 'internet_glory_day', 'glor...</td>\n      <td>[]</td>\n      <td>[]</td>\n      <td>['peak_internet', 'glory_day']</td>\n      <td>{'neg': 0.0, 'neu': 0.462, 'pos': 0.538, 'comp...</td>\n      <td>0.5423</td>\n      <td>0.538</td>\n      <td>0.000</td>\n      <td>0.462</td>\n      <td>POSITIVE</td>\n    </tr>\n    <tr>\n      <th>4</th>\n      <td>sbi</td>\n      <td>So my question. Did they find the rapist is Li...</td>\n      <td>2022-05-14T16:47:53Z</td>\n      <td>0.0</td>\n      <td>0.0</td>\n      <td>UgxxcUMzPyuHt7dpoqB4AaABAg</td>\n      <td>Yes</td>\n      <td>Bed Intruder</td>\n      <td>NaT</td>\n      <td>NaN</td>\n      <td>...</td>\n      <td>[]</td>\n      <td>[]</td>\n      <td>[]</td>\n      <td>['question_find', 'rapist_lincoln', 'park']</td>\n      <td>{'neg': 0.329, 'neu': 0.671, 'pos': 0.0, 'comp...</td>\n      <td>-0.7096</td>\n      <td>0.000</td>\n      <td>0.329</td>\n      <td>0.671</td>\n      <td>NEGATIVE</td>\n    </tr>\n  </tbody>\n</table>\n<p>5 rows × 28 columns</p>\n</div>"
     },
     "execution_count": 6,
     "metadata": {},
     "output_type": "execute_result"
    }
   ],
   "source": [
    "df.head()"
   ],
   "metadata": {
    "collapsed": false,
    "pycharm": {
     "name": "#%%\n"
    }
   }
  },
  {
   "cell_type": "code",
   "execution_count": 7,
   "outputs": [
    {
     "data": {
      "text/plain": "sentiment_type\nNEUTRAL     169239\nPOSITIVE     45921\nNEGATIVE     21404\ndtype: int64"
     },
     "execution_count": 7,
     "metadata": {},
     "output_type": "execute_result"
    }
   ],
   "source": [
    "df.value_counts('sentiment_type')"
   ],
   "metadata": {
    "collapsed": false,
    "pycharm": {
     "name": "#%%\n"
    }
   }
  },
  {
   "cell_type": "code",
   "execution_count": 8,
   "outputs": [],
   "source": [
    "df.to_excel('../output/07202022_clean_data.xlsx')"
   ],
   "metadata": {
    "collapsed": false,
    "pycharm": {
     "name": "#%%\n"
    }
   }
  }
 ],
 "metadata": {
  "kernelspec": {
   "display_name": "Python 3",
   "language": "python",
   "name": "python3"
  },
  "language_info": {
   "codemirror_mode": {
    "name": "ipython",
    "version": 2
   },
   "file_extension": ".py",
   "mimetype": "text/x-python",
   "name": "python",
   "nbconvert_exporter": "python",
   "pygments_lexer": "ipython2",
   "version": "2.7.6"
  }
 },
 "nbformat": 4,
 "nbformat_minor": 0
}