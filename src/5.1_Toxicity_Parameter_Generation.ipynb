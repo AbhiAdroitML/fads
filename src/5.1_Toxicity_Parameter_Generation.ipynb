{
 "cells": [
  {
   "cell_type": "code",
   "execution_count": null,
   "metadata": {
    "collapsed": false,
    "pycharm": {
     "name": "#%%\n"
    }
   },
   "outputs": [],
   "source": [
    "import pandas as pd\n",
    "import os\n",
    "from detoxify import Detoxify"
   ]
  },
  {
   "cell_type": "code",
   "execution_count": 2,
   "metadata": {
    "collapsed": true,
    "pycharm": {
     "name": "#%%\n"
    }
   },
   "outputs": [],
   "source": [
    "df = pd.read_pickle('07142022_clean_data.pkl')"
   ]
  },
  {
   "cell_type": "code",
   "execution_count": null,
   "metadata": {
    "collapsed": true,
    "pycharm": {
     "name": "#%%\n"
    }
   },
   "outputs": [],
   "source": [
    "df['toxicity']= None\n",
    "df['severe_toxicity']= None\n",
    "df['obscene']= None\n",
    "df['identity_attack']= None\n",
    "df['insult']= None\n",
    "df['sexual_explicit']= None\n",
    "df['threat']= None\n",
    "df['toxicity_check'] = None\n",
    "\n",
    "for index, row in df.iterrows():\n",
    "    toxic = Detoxify('unbiased').predict(df.loc[index,'clean_comments'])\n",
    "    df.at[index, 'toxicity_check'] = toxic\n",
    "    df.loc[index, 'toxicity']= toxic.get('toxicity',0)\n",
    "    df.loc[index, 'severe_toxicity']= toxic.get('severe_toxicity', 0)\n",
    "    df.loc[index, 'obscene']= toxic.get('obscene', 0)\n",
    "    df.loc[index, 'identity_attack']= toxic.get('identity_attack', 0)\n",
    "    df.loc[index, 'insult']= toxic.get('insult', 0)\n",
    "    df.loc[index, 'sexual_explicit']= toxic.get('sexual_explicit', 0)\n",
    "    df.loc[index, 'threat']= toxic.get('threat', 0)\n"
   ]
  },
  {
   "cell_type": "code",
   "execution_count": null,
   "metadata": {
    "collapsed": true,
    "pycharm": {
     "name": "#%%\n"
    }
   },
   "outputs": [],
   "source": [
    "df.to_pickle('Final_Combined_Df_Detoxify_Results.pkl')"
   ]
  }
 ],
 "metadata": {
  "kernelspec": {
   "display_name": "abhipy",
   "language": "python",
   "name": "abhipy"
  },
  "language_info": {
   "codemirror_mode": {
    "name": "ipython",
    "version": 3
   },
   "file_extension": ".py",
   "mimetype": "text/x-python",
   "name": "python",
   "nbconvert_exporter": "python",
   "pygments_lexer": "ipython3",
   "version": "3.9.7"
  }
 },
 "nbformat": 4,
 "nbformat_minor": 2
}